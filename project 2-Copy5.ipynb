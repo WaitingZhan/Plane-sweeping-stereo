{
 "cells": [
  {
   "cell_type": "markdown",
   "metadata": {},
   "source": [
    "# Part 1: Camera calibration (Intrinsic parameters)"
   ]
  },
  {
   "cell_type": "code",
   "execution_count": 3,
   "metadata": {},
   "outputs": [],
   "source": [
    "import numpy as np\n",
    "import cv2\n",
    "import glob\n",
    "import os"
   ]
  },
  {
   "cell_type": "code",
   "execution_count": 4,
   "metadata": {},
   "outputs": [
    {
     "name": "stdout",
     "output_type": "stream",
     "text": [
      "3.3.0\n"
     ]
    }
   ],
   "source": [
    "print(cv2.__version__)"
   ]
  },
  {
   "cell_type": "code",
   "execution_count": 5,
   "metadata": {},
   "outputs": [
    {
     "name": "stdout",
     "output_type": "stream",
     "text": [
      "3.6.3\n"
     ]
    }
   ],
   "source": [
    "from platform import python_version\n",
    "print(python_version())"
   ]
  },
  {
   "cell_type": "code",
   "execution_count": 6,
   "metadata": {},
   "outputs": [],
   "source": [
    " # termination criteria\n",
    "criteria = (cv2.TERM_CRITERIA_EPS + cv2.TERM_CRITERIA_MAX_ITER, 30, 0.001)\n",
    "# prepare object points, like (0,0,0), (1,0,0), (2,0,0) ....,(6,5,0)\n",
    "objp = np.zeros((6*9,3), np.float32)\n",
    "objp[:,:2] = np.mgrid[0:9,0:6].T.reshape(-1,2)"
   ]
  },
  {
   "cell_type": "code",
   "execution_count": 7,
   "metadata": {},
   "outputs": [],
   "source": [
    "# Arrays to store object points and image points from all the images.\n",
    "objpoints = [] # 3d point in real world space\n",
    "imgpoints = [] # 2d points in image plane.\n"
   ]
  },
  {
   "cell_type": "code",
   "execution_count": 8,
   "metadata": {},
   "outputs": [],
   "source": [
    "images = glob.glob('./Chessboard3/*.JPG')\n"
   ]
  },
  {
   "cell_type": "code",
   "execution_count": 9,
   "metadata": {},
   "outputs": [
    {
     "name": "stdout",
     "output_type": "stream",
     "text": [
      "['./Chessboard3/IMG_1068.JPG', './Chessboard3/IMG_1069.JPG', './Chessboard3/IMG_1057.JPG', './Chessboard3/IMG_1061.JPG', './Chessboard3/IMG_1060.JPG', './Chessboard3/IMG_1062.JPG', './Chessboard3/IMG_1063.JPG', './Chessboard3/IMG_1067.JPG', './Chessboard3/IMG_1066.JPG', './Chessboard3/IMG_1072.JPG', './Chessboard3/IMG_1064.JPG', './Chessboard3/IMG_1070.JPG', './Chessboard3/IMG_1059.JPG', './Chessboard3/IMG_1071.JPG', './Chessboard3/IMG_1065.JPG']\n"
     ]
    }
   ],
   "source": [
    "print(images)"
   ]
  },
  {
   "cell_type": "code",
   "execution_count": 10,
   "metadata": {},
   "outputs": [],
   "source": [
    "for fname in images:\n",
    "    img = cv2.imread(fname)\n",
    "    gray = cv2.cvtColor(img,cv2.COLOR_BGR2GRAY)\n",
    "    # Find the chess board corners\n",
    "    ret, corners = cv2.findChessboardCorners(gray, (9,6),None)\n",
    "    # If found, add object points, image points (after refining them)\n",
    "    if ret == True:\n",
    "        objpoints.append(objp)\n",
    "        cv2.cornerSubPix(gray,corners,(11,11),(-1,-1),criteria)\n",
    "        imgpoints.append(corners)\n",
    "        # Draw and display the corners\n",
    "        cv2.drawChessboardCorners(img, (9,6), corners,ret)\n",
    "        name = fname.replace(\"./Chessboard/\",\"\")\n",
    "        cv2.imwrite(\"./res/part 1/\"+str(name),img)\n",
    "        #print(\"./res/part 1/\"+str(name)+\".png\")\n",
    "        #cv2.imshow('img',img)\n",
    "        #cv2.waitKey(500)\n",
    "        #cv2.destroyAllWindows()"
   ]
  },
  {
   "cell_type": "code",
   "execution_count": 11,
   "metadata": {},
   "outputs": [],
   "source": [
    " ret, mtx, dist, rvecs, tvecs = cv2.calibrateCamera(objpoints, imgpoints, gray.shape[::-1],None,None)"
   ]
  },
  {
   "cell_type": "code",
   "execution_count": 12,
   "metadata": {},
   "outputs": [
    {
     "name": "stdout",
     "output_type": "stream",
     "text": [
      "1.628830895986753\n"
     ]
    }
   ],
   "source": [
    "print(ret)\n"
   ]
  },
  {
   "cell_type": "code",
   "execution_count": 13,
   "metadata": {},
   "outputs": [
    {
     "name": "stdout",
     "output_type": "stream",
     "text": [
      "[[2.35823484e+03 0.00000000e+00 1.27505685e+03]\n",
      " [0.00000000e+00 2.35363433e+03 9.73403504e+02]\n",
      " [0.00000000e+00 0.00000000e+00 1.00000000e+00]]\n"
     ]
    }
   ],
   "source": [
    "print(mtx)"
   ]
  },
  {
   "cell_type": "code",
   "execution_count": 14,
   "metadata": {},
   "outputs": [
    {
     "name": "stdout",
     "output_type": "stream",
     "text": [
      "[[ 0.10990381 -0.01088416 -0.00567028 -0.00663648 -1.30729001]]\n"
     ]
    }
   ],
   "source": [
    "print(dist)"
   ]
  },
  {
   "cell_type": "code",
   "execution_count": 15,
   "metadata": {},
   "outputs": [
    {
     "data": {
      "text/plain": [
       "[-1.22057713]"
      ]
     },
     "execution_count": 15,
     "metadata": {},
     "output_type": "execute_result"
    }
   ],
   "source": [
    "[ 0.10990381 -0.01088417 -0.00567028 -0.00663648 -1.30729001]"
   ]
  },
  {
   "cell_type": "code",
   "execution_count": 16,
   "metadata": {},
   "outputs": [],
   "source": [
    "principalPoint = (mtx[0][2],mtx[1][2])"
   ]
  },
  {
   "cell_type": "code",
   "execution_count": 17,
   "metadata": {},
   "outputs": [],
   "source": [
    "focal = (mtx[0][0]+mtx[1][1])/2"
   ]
  },
  {
   "cell_type": "code",
   "execution_count": 18,
   "metadata": {},
   "outputs": [
    {
     "name": "stdout",
     "output_type": "stream",
     "text": [
      "(1275.0568472391526, 973.4035044444332)\n"
     ]
    }
   ],
   "source": [
    "print(principalPoint)"
   ]
  },
  {
   "cell_type": "code",
   "execution_count": 19,
   "metadata": {},
   "outputs": [],
   "source": [
    "img = cv2.imread('./Chessboard3/IMG_1068.JPG')"
   ]
  },
  {
   "cell_type": "code",
   "execution_count": 20,
   "metadata": {},
   "outputs": [
    {
     "data": {
      "text/plain": [
       "True"
      ]
     },
     "execution_count": 20,
     "metadata": {},
     "output_type": "execute_result"
    }
   ],
   "source": [
    "dstchess = cv2.undistort(img, mtx, dist)\n",
    "cv2.imwrite('./calibresult/mytest.png',dstchess)"
   ]
  },
  {
   "cell_type": "code",
   "execution_count": null,
   "metadata": {},
   "outputs": [],
   "source": []
  },
  {
   "cell_type": "markdown",
   "metadata": {},
   "source": [
    "# Part 2: Take the pictures"
   ]
  },
  {
   "cell_type": "code",
   "execution_count": null,
   "metadata": {},
   "outputs": [],
   "source": []
  },
  {
   "cell_type": "markdown",
   "metadata": {},
   "source": [
    "# Part 3: Compute the relative camera pose"
   ]
  },
  {
   "cell_type": "code",
   "execution_count": 21,
   "metadata": {},
   "outputs": [],
   "source": [
    "from matplotlib import pyplot as plt\n",
    "\n",
    "imgo1 = cv2.imread('./Pair image2/myleft.JPG')  #queryimage # left image\n",
    "imgo2 = cv2.imread('./Pair image2/myright.JPG') #trainimage # right image\n"
   ]
  },
  {
   "cell_type": "markdown",
   "metadata": {},
   "source": [
    "## 3.1 undistort the picture"
   ]
  },
  {
   "cell_type": "code",
   "execution_count": 22,
   "metadata": {},
   "outputs": [
    {
     "data": {
      "text/plain": [
       "True"
      ]
     },
     "execution_count": 22,
     "metadata": {},
     "output_type": "execute_result"
    }
   ],
   "source": [
    "# undistort\n",
    "dst1 = cv2.undistort(imgo1, mtx, dist)\n",
    "cv2.imwrite('./calibresult/myleft.png',dst1)\n",
    "# undistort\n",
    "dst2 = cv2.undistort(imgo2, mtx, dist)\n",
    "cv2.imwrite('./calibresult/myright.png',dst1)"
   ]
  },
  {
   "cell_type": "code",
   "execution_count": null,
   "metadata": {},
   "outputs": [],
   "source": []
  },
  {
   "cell_type": "code",
   "execution_count": 23,
   "metadata": {},
   "outputs": [],
   "source": [
    "\n",
    "img1 = cv2.imread('./calibresult/0.JPG')  #queryimage # left image\n",
    "img1 = cv2.cvtColor(img1,cv2.COLOR_BGR2GRAY)\n",
    "img2 = cv2.imread('./calibresult/1.JPG') #trainimage # right image\n",
    "img2 = cv2.cvtColor(img2,cv2.COLOR_BGR2GRAY)"
   ]
  },
  {
   "cell_type": "code",
   "execution_count": 24,
   "metadata": {},
   "outputs": [],
   "source": [
    "# Initiate SIFT detector\n",
    "sift = cv2.xfeatures2d.SIFT_create()\n",
    "# find the keypoints and descriptors with SIFT\n",
    "kp1, des1 = sift.detectAndCompute(img1,None)\n",
    "kp2, des2 = sift.detectAndCompute(img2,None)\n",
    "\n",
    "# FLANN parameters\n",
    "FLANN_INDEX_KDTREE = 0\n",
    "index_params = dict(algorithm = FLANN_INDEX_KDTREE, trees = 5)\n",
    "search_params = dict(checks=50)\n",
    "\n",
    "flann = cv2.FlannBasedMatcher(index_params,search_params)\n",
    "matches = flann.knnMatch(des1,des2,k=2)\n",
    "\n",
    "good = []\n",
    "pts1 = []\n",
    "pts2 = []\n",
    "\n",
    "# ratio test as per Lowe's paper\n",
    "for i,(m,n) in enumerate(matches):\n",
    "    if m.distance < 0.5*n.distance:\n",
    "        good.append(m)\n",
    "        pts2.append(kp2[m.trainIdx].pt)\n",
    "        pts1.append(kp1[m.queryIdx].pt)\n",
    "        \n",
    "pts1 = np.int32(pts1)\n",
    "pts2 = np.int32(pts2)\n",
    "F, mask = cv2.findFundamentalMat(pts1,pts2,cv2.FM_LMEDS)\n"
   ]
  },
  {
   "cell_type": "code",
   "execution_count": 25,
   "metadata": {},
   "outputs": [
    {
     "name": "stdout",
     "output_type": "stream",
     "text": [
      "[[1926  462]\n",
      " [1130  439]\n",
      " [1180  441]\n",
      " ...\n",
      " [1370 1346]\n",
      " [ 658 1699]\n",
      " [1207  724]]\n"
     ]
    }
   ],
   "source": [
    "print(pts1)"
   ]
  },
  {
   "cell_type": "markdown",
   "metadata": {},
   "source": [
    "Got the list of best matches from both images"
   ]
  },
  {
   "cell_type": "code",
   "execution_count": 26,
   "metadata": {},
   "outputs": [],
   "source": [
    "\n",
    "# We select only inlier points\n",
    "pts1 = pts1[mask.ravel()==1]\n",
    "pts2 = pts2[mask.ravel()==1]"
   ]
  },
  {
   "cell_type": "code",
   "execution_count": 27,
   "metadata": {},
   "outputs": [
    {
     "name": "stdout",
     "output_type": "stream",
     "text": [
      "[[-3.84128923e-08  2.54493575e-06 -6.20588721e-04]\n",
      " [-7.91415426e-07  6.66958672e-08 -1.59205797e-02]\n",
      " [ 1.21834113e-05  1.26101212e-02  1.00000000e+00]]\n"
     ]
    }
   ],
   "source": [
    "print(F)"
   ]
  },
  {
   "cell_type": "code",
   "execution_count": null,
   "metadata": {},
   "outputs": [],
   "source": []
  },
  {
   "cell_type": "markdown",
   "metadata": {},
   "source": [
    "Next we find the epilines. Epilines corresponding to the points in first image is drawn on second image. So mentioning of correct images are important here. We get an array of lines. So we define a new function to draw these lines on the images."
   ]
  },
  {
   "cell_type": "code",
   "execution_count": 28,
   "metadata": {},
   "outputs": [],
   "source": [
    "def drawlines(img1,img2,lines,pts1,pts2):\n",
    "    ''' img1 - image on which we draw the epilines for the points in img2\n",
    "        lines - corresponding epilines '''\n",
    "    r,c = img1.shape\n",
    "    img1 = cv2.cvtColor(img1,cv2.COLOR_GRAY2BGR)\n",
    "    img2 = cv2.cvtColor(img2,cv2.COLOR_GRAY2BGR)\n",
    "    for r,pt1,pt2 in zip(lines,pts1,pts2):\n",
    "        color = tuple(np.random.randint(0,255,3).tolist())\n",
    "        x0,y0 = map(int, [0, -r[2]/r[1] ])\n",
    "        x1,y1 = map(int, [c, -(r[2]+r[0]*c)/r[1] ])\n",
    "        img1 = cv2.line(img1, (x0,y0), (x1,y1), color,1)\n",
    "        img1 = cv2.circle(img1,tuple(pt1),5,color,-1)\n",
    "        img2 = cv2.circle(img2,tuple(pt2),5,color,-1)\n",
    "    return img1,img2"
   ]
  },
  {
   "cell_type": "markdown",
   "metadata": {},
   "source": [
    "Now we find the epilines in both the images and draw them."
   ]
  },
  {
   "cell_type": "code",
   "execution_count": 29,
   "metadata": {},
   "outputs": [
    {
     "data": {
      "image/png": "[encoded data removed]",
      "text/plain": [
       "<Figure size 432x288 with 2 Axes>"
      ]
     },
     "metadata": {
      "needs_background": "light"
     },
     "output_type": "display_data"
    }
   ],
   "source": [
    "# Find epilines corresponding to points in right image (second image) and\n",
    "# drawing its lines on left image\n",
    "lines1 = cv2.computeCorrespondEpilines(pts2.reshape(-1,1,2), 2,F)\n",
    "lines1 = lines1.reshape(-1,3)\n",
    "img5,img6 = drawlines(img1,img2,lines1,pts1,pts2)\n",
    "\n",
    "# Find epilines corresponding to points in left image (first image) and\n",
    "# drawing its lines on right image\n",
    "lines2 = cv2.computeCorrespondEpilines(pts1.reshape(-1,1,2), 1,F)\n",
    "lines2 = lines2.reshape(-1,3)\n",
    "img3,img4 = drawlines(img2,img1,lines2,pts2,pts1)\n",
    "\n",
    "plt.subplot(121),plt.imshow(img5)\n",
    "plt.subplot(122),plt.imshow(img3)\n",
    "cv2.imwrite(\"./res/part 2/epilineleft.png\", img5)\n",
    "cv2.imwrite(\"./res/part 2/epilineright.png\", img3)\n",
    "plt.show()\n",
    "cv2.destroyAllWindows()"
   ]
  },
  {
   "cell_type": "markdown",
   "metadata": {},
   "source": [
    "Compute the essential matrix E\n",
    "https://docs.opencv.org/3.1.0/d9/d0c/group__calib3d.html#ga13f7e34de8fa516a686a56af1196247f"
   ]
  },
  {
   "cell_type": "code",
   "execution_count": 30,
   "metadata": {},
   "outputs": [],
   "source": [
    "E, mask = cv2.findEssentialMat(pts1, pts2, focal, principalPoint, method=cv2.RANSAC, prob=0.999, threshold=3.0)"
   ]
  },
  {
   "cell_type": "code",
   "execution_count": 31,
   "metadata": {},
   "outputs": [
    {
     "name": "stdout",
     "output_type": "stream",
     "text": [
      "[[ 0.00344321  0.27292553  0.05371569]\n",
      " [-0.10668505  0.00622317 -0.69677576]\n",
      " [-0.01352015  0.65216834 -0.01382731]]\n"
     ]
    }
   ],
   "source": [
    "print(E)"
   ]
  },
  {
   "cell_type": "code",
   "execution_count": 32,
   "metadata": {},
   "outputs": [],
   "source": [
    "R1,R2,t = cv2.decomposeEssentialMat(E)"
   ]
  },
  {
   "cell_type": "markdown",
   "metadata": {},
   "source": [
    "### decompose the essential matrix, we got two rotaion matrixs, R1(3*3) and R2(3*3), and one translation vector (3*1).\n",
    "### We need the  projection matrix of the first camera and projection matrix of the second camera to calculate the triangulatePoints\n",
    "### projMatr1 – 3x4 projection matrix of the first camera.\n",
    "### projMatr2 – 3x4 projection matrix of the second camera."
   ]
  },
  {
   "cell_type": "code",
   "execution_count": 33,
   "metadata": {},
   "outputs": [
    {
     "name": "stdout",
     "output_type": "stream",
     "text": [
      "[[ 0.84899521  0.09170774 -0.52038143]\n",
      " [ 0.09331245 -0.99536707 -0.02317731]\n",
      " [-0.52009608 -0.02888064 -0.85361934]]\n"
     ]
    }
   ],
   "source": [
    "print(R1)"
   ]
  },
  {
   "cell_type": "code",
   "execution_count": 34,
   "metadata": {},
   "outputs": [
    {
     "name": "stdout",
     "output_type": "stream",
     "text": [
      "[[ 9.68320962e-01 -5.99263511e-02  2.42411525e-01]\n",
      " [ 6.19095553e-02  9.98081604e-01 -5.64872089e-04]\n",
      " [-2.41912633e-01  1.55545672e-02  9.70173352e-01]]\n"
     ]
    }
   ],
   "source": [
    "print(R2)"
   ]
  },
  {
   "cell_type": "code",
   "execution_count": 35,
   "metadata": {},
   "outputs": [
    {
     "name": "stdout",
     "output_type": "stream",
     "text": [
      "[[ 0.91936328]\n",
      " [ 0.07852536]\n",
      " [-0.38549309]]\n"
     ]
    }
   ],
   "source": [
    "print(t)"
   ]
  },
  {
   "cell_type": "markdown",
   "metadata": {},
   "source": [
    "### There are 4 possible combination for the projection matrix.\n",
    "#### Case 1:  projMatr1 = K [ I 0]   projMatr2 = K[R1 t]\n",
    "#### Case 2:  projMatr1 = K[ I 0]   projMatr2 = K[R1  -t]\n",
    "#### Case 3:  projMatr1 = K[ I 0]   projMatr2 = K[R2 t]\n",
    "#### Case 4:  projMatr1 = K[ I 0]   projMatr2 = K[R2 -t]\n"
   ]
  },
  {
   "cell_type": "code",
   "execution_count": 36,
   "metadata": {},
   "outputs": [],
   "source": [
    "points1 = np.array(pts1).astype(float).T \n",
    "points2 = np.array(pts2).astype(float).T"
   ]
  },
  {
   "cell_type": "code",
   "execution_count": 37,
   "metadata": {},
   "outputs": [],
   "source": [
    "# make a projection matrix for camera 1\n",
    "projMatr1 = mtx@np.array([[1,0,0,0],[0,1,0,0],[0,0,1,0]])"
   ]
  },
  {
   "cell_type": "code",
   "execution_count": 38,
   "metadata": {},
   "outputs": [],
   "source": [
    "# case 1\n",
    "projMatr21 = mtx@np.concatenate((R1,t),1)\n",
    "# case 2\n",
    "projMatr22 = mtx@np.concatenate((R1,-t),1)\n",
    "# case 3\n",
    "projMatr23 = mtx@np.concatenate((R2,t),1)\n",
    "# case 4\n",
    "projMatr24 = mtx@np.concatenate((R2,-t),1)"
   ]
  },
  {
   "cell_type": "code",
   "execution_count": 39,
   "metadata": {},
   "outputs": [],
   "source": [
    "triangulate1 = cv2.triangulatePoints(projMatr1, projMatr21,points1,points2)\n",
    "triangulate2 = cv2.triangulatePoints(projMatr1, projMatr22,points1,points2)\n",
    "triangulate3 = cv2.triangulatePoints(projMatr1, projMatr23,points1,points2)\n",
    "triangulate4 = cv2.triangulatePoints(projMatr1, projMatr24,points1,points2)"
   ]
  },
  {
   "cell_type": "code",
   "execution_count": 40,
   "metadata": {},
   "outputs": [
    {
     "name": "stdout",
     "output_type": "stream",
     "text": [
      "[[-0.2600651   0.20484928 -0.94217022  0.0521362 ]\n",
      " [ 0.05114042  0.18855837 -0.83146966 -0.52008519]\n",
      " [ 0.03416712  0.19172311 -0.84764941 -0.49352339]\n",
      " ...\n",
      " [-0.1263581   0.03288221  0.74855415  0.65009159]\n",
      " [-0.08175165 -0.12419548 -0.93623582 -0.31836245]\n",
      " [-0.0364933  -0.14385459 -0.9067541  -0.39467847]]\n"
     ]
    }
   ],
   "source": [
    "print(triangulate1.T)"
   ]
  },
  {
   "cell_type": "code",
   "execution_count": 41,
   "metadata": {},
   "outputs": [
    {
     "name": "stdout",
     "output_type": "stream",
     "text": [
      "-0.97380087294087\n"
     ]
    }
   ],
   "source": [
    "print(triangulate1[2].min())"
   ]
  },
  {
   "cell_type": "markdown",
   "metadata": {},
   "source": [
    "#### case 1 got negtive distance, get rid of it."
   ]
  },
  {
   "cell_type": "code",
   "execution_count": 42,
   "metadata": {},
   "outputs": [
    {
     "name": "stdout",
     "output_type": "stream",
     "text": [
      "[[-0.2600651   0.20484928 -0.94217022 -0.0521362 ]\n",
      " [ 0.05114042  0.18855837 -0.83146966  0.52008519]\n",
      " [ 0.03416712  0.19172311 -0.84764941  0.49352339]\n",
      " ...\n",
      " [ 0.1263581  -0.03288221 -0.74855415  0.65009159]\n",
      " [-0.08175165 -0.12419548 -0.93623582  0.31836245]\n",
      " [-0.0364933  -0.14385459 -0.9067541   0.39467847]]\n"
     ]
    }
   ],
   "source": [
    "print(triangulate2.T)"
   ]
  },
  {
   "cell_type": "code",
   "execution_count": 43,
   "metadata": {},
   "outputs": [
    {
     "name": "stdout",
     "output_type": "stream",
     "text": [
      "-0.97380087294087\n"
     ]
    }
   ],
   "source": [
    "print(triangulate2[2].min())"
   ]
  },
  {
   "cell_type": "markdown",
   "metadata": {},
   "source": [
    "#### case 2 got negtive distance, get rid of it."
   ]
  },
  {
   "cell_type": "code",
   "execution_count": 44,
   "metadata": {},
   "outputs": [
    {
     "name": "stdout",
     "output_type": "stream",
     "text": [
      "[[-0.25672644  0.20221947 -0.93007485  0.16780822]\n",
      " [ 0.05883805  0.2169404  -0.95662346  0.18532812]\n",
      " [ 0.03861181  0.21666374 -0.95791735  0.18428323]\n",
      " ...\n",
      " [ 0.1620439  -0.04216877 -0.9599601   0.22458891]\n",
      " [-0.08435993 -0.12815784 -0.96610567  0.20760253]\n",
      " [-0.03882966 -0.15306393 -0.96480303  0.21028266]]\n"
     ]
    }
   ],
   "source": [
    "print(triangulate3.T)"
   ]
  },
  {
   "cell_type": "code",
   "execution_count": 45,
   "metadata": {},
   "outputs": [
    {
     "name": "stdout",
     "output_type": "stream",
     "text": [
      "-0.9768236085989586\n"
     ]
    }
   ],
   "source": [
    "print(triangulate3[2].min())"
   ]
  },
  {
   "cell_type": "markdown",
   "metadata": {},
   "source": [
    "#### case 3 got negtive distance, so I get rit of this case."
   ]
  },
  {
   "cell_type": "code",
   "execution_count": 46,
   "metadata": {},
   "outputs": [
    {
     "name": "stdout",
     "output_type": "stream",
     "text": [
      "[[-0.25672644  0.20221947 -0.93007485 -0.16780822]\n",
      " [ 0.05883805  0.2169404  -0.95662346 -0.18532812]\n",
      " [ 0.03861181  0.21666374 -0.95791735 -0.18428323]\n",
      " ...\n",
      " [ 0.1620439  -0.04216877 -0.9599601  -0.22458891]\n",
      " [-0.08435993 -0.12815784 -0.96610567 -0.20760253]\n",
      " [-0.03882966 -0.15306393 -0.96480303 -0.21028266]]\n"
     ]
    }
   ],
   "source": [
    "print(triangulate4.T)"
   ]
  },
  {
   "cell_type": "code",
   "execution_count": 47,
   "metadata": {},
   "outputs": [
    {
     "name": "stdout",
     "output_type": "stream",
     "text": [
      "-0.9768236085989586\n"
     ]
    }
   ],
   "source": [
    "print(triangulate4[2].min())"
   ]
  },
  {
   "cell_type": "markdown",
   "metadata": {},
   "source": [
    "#### case 4 has the positive distance , so the (R2,-t) is the right R and t"
   ]
  },
  {
   "cell_type": "code",
   "execution_count": 48,
   "metadata": {},
   "outputs": [
    {
     "name": "stdout",
     "output_type": "stream",
     "text": [
      "[[-0.25672644  0.20221947 -0.93007485 -0.16780822]\n",
      " [ 0.05883805  0.2169404  -0.95662346 -0.18532812]\n",
      " [ 0.03861181  0.21666374 -0.95791735 -0.18428323]\n",
      " ...\n",
      " [ 0.1620439  -0.04216877 -0.9599601  -0.22458891]\n",
      " [-0.08435993 -0.12815784 -0.96610567 -0.20760253]\n",
      " [-0.03882966 -0.15306393 -0.96480303 -0.21028266]]\n"
     ]
    }
   ],
   "source": [
    "print(triangulate4.T)"
   ]
  },
  {
   "cell_type": "code",
   "execution_count": 49,
   "metadata": {},
   "outputs": [],
   "source": [
    "triangulate4world = np.true_divide(triangulate4.T[:,:3], triangulate4.T[:,[-1]]).T"
   ]
  },
  {
   "cell_type": "code",
   "execution_count": 50,
   "metadata": {},
   "outputs": [
    {
     "name": "stdout",
     "output_type": "stream",
     "text": [
      "-2.2195854566453446\n"
     ]
    }
   ],
   "source": [
    "print(triangulate4world.T.min())"
   ]
  },
  {
   "cell_type": "code",
   "execution_count": 51,
   "metadata": {},
   "outputs": [
    {
     "name": "stdout",
     "output_type": "stream",
     "text": [
      "(3, 944)\n"
     ]
    }
   ],
   "source": [
    "print(triangulate4world.shape)"
   ]
  },
  {
   "cell_type": "code",
   "execution_count": 52,
   "metadata": {},
   "outputs": [],
   "source": [
    "pixelh = mtx@triangulate4world"
   ]
  },
  {
   "cell_type": "code",
   "execution_count": 53,
   "metadata": {},
   "outputs": [
    {
     "name": "stdout",
     "output_type": "stream",
     "text": [
      "[[1.06748020e+04 2.55879846e+03 5.54248675e+00]\n",
      " [5.83287275e+03 2.26939254e+03 5.16178252e+00]\n",
      " [6.13372876e+03 2.29262796e+03 5.19807117e+00]\n",
      " ...\n",
      " [3.74847595e+03 4.60253533e+03 4.27429877e+00]\n",
      " [6.89192088e+03 5.98281421e+03 4.65363157e+00]\n",
      " [6.28557861e+03 6.17929780e+03 4.58812457e+00]]\n"
     ]
    }
   ],
   "source": [
    "print(pixelh.T)"
   ]
  },
  {
   "cell_type": "code",
   "execution_count": 54,
   "metadata": {},
   "outputs": [],
   "source": [
    "pixel = np.true_divide(pixelh.T[:,:2],pixelh.T[:,[-1]])"
   ]
  },
  {
   "cell_type": "code",
   "execution_count": 55,
   "metadata": {},
   "outputs": [
    {
     "name": "stdout",
     "output_type": "stream",
     "text": [
      "[[1926.  462.]\n",
      " [1130.  439.]\n",
      " [1180.  441.]\n",
      " ...\n",
      " [ 877. 1076.]\n",
      " [1481. 1285.]\n",
      " [1370. 1346.]]\n"
     ]
    }
   ],
   "source": [
    "print(points1.T)"
   ]
  },
  {
   "cell_type": "code",
   "execution_count": 56,
   "metadata": {},
   "outputs": [
    {
     "name": "stdout",
     "output_type": "stream",
     "text": [
      "[[1925.99504319  461.66974762]\n",
      " [1130.01133377  439.65287915]\n",
      " [1180.00092092  441.05359219]\n",
      " ...\n",
      " [ 876.98033082 1076.79307835]\n",
      " [1480.97690391 1285.62266192]\n",
      " [1369.96685853 1346.8025348 ]]\n"
     ]
    }
   ],
   "source": [
    "print(pixel)"
   ]
  },
  {
   "cell_type": "code",
   "execution_count": 57,
   "metadata": {},
   "outputs": [
    {
     "name": "stdout",
     "output_type": "stream",
     "text": [
      "(944, 2)\n"
     ]
    }
   ],
   "source": [
    "print(pixel.shape)"
   ]
  },
  {
   "cell_type": "code",
   "execution_count": 58,
   "metadata": {},
   "outputs": [],
   "source": [
    "imgleft = cv2.imread('./Pair image2/myleft.JPG')  # left image\n",
    "imgright = cv2.imread('./Pair image2/myright.JPG') # right image\n",
    "\n"
   ]
  },
  {
   "cell_type": "code",
   "execution_count": 59,
   "metadata": {},
   "outputs": [],
   "source": [
    "cv2.imshow('left',imgleft)"
   ]
  },
  {
   "cell_type": "code",
   "execution_count": 60,
   "metadata": {},
   "outputs": [
    {
     "data": {
      "text/plain": [
       "True"
      ]
     },
     "execution_count": 60,
     "metadata": {},
     "output_type": "execute_result"
    }
   ],
   "source": [
    "for point in pixel.astype(int):\n",
    "    #print(tuple(point))\n",
    "    \n",
    "    imgleft = cv2.circle(imgleft,tuple(point),10,(0, 0, 200),-1)\n",
    "for point in points1.T.astype(int):\n",
    "    #print(tuple(point))\n",
    "    imgleft = cv2.circle(imgleft,tuple(point),5,(200, 0, 0),-1)\n",
    "cv2.imwrite(\"./res/part 3/reporject.png\", imgleft)\n",
    "#plt.imshow(imgleft)\n",
    "#cv2.imshow('left',imgleft )\n",
    "#cv2.waitKey(0)\n",
    "#cv2.destroyAllWindows()\n"
   ]
  },
  {
   "cell_type": "markdown",
   "metadata": {},
   "source": [
    "# Part 4: Plane-sweeping stereo"
   ]
  },
  {
   "cell_type": "markdown",
   "metadata": {},
   "source": [
    "### 4.1 compute 20 depth to generate a array of 20 depth"
   ]
  },
  {
   "cell_type": "code",
   "execution_count": 61,
   "metadata": {},
   "outputs": [
    {
     "name": "stdout",
     "output_type": "stream",
     "text": [
      "[5.54248675 5.16178252 5.19807117 5.20483518 5.5767724  5.70650505\n",
      " 4.6781098  4.6781098  5.67250014 5.71299389 4.69712411 3.9585724\n",
      " 3.9585724  4.80845309 4.02247122 4.72677651 5.51658653 5.4877086\n",
      " 5.50300728 5.48193327 5.58598817 5.52807114 4.97346296 4.98545852\n",
      " 5.07446468 5.03833366 5.09631605 5.09631605 5.13873917 5.19804667\n",
      " 5.15441706 5.07981949 5.20884446 5.01252321 4.97533697 5.1753005\n",
      " 5.1753005  4.99075234 5.16552616 5.70651071 5.60469696 5.6094571\n",
      " 5.6094571  5.58859128 4.63516089 4.5679999  4.53771657 4.64004264\n",
      " 4.56539528 4.69693826 4.64985856 4.65429529 4.70388425 4.70388425\n",
      " 4.64775761 4.68352392 4.61579162 4.60600141 4.59939442 5.83410143\n",
      " 4.68553833 4.68553833 5.65085439 4.72544331 4.58581517 5.74805178\n",
      " 4.74004764 4.73373707 4.73870859 5.7440464  5.7440464  4.60444769\n",
      " 5.68986139 5.92119614 4.66078039 5.76210493 4.67216892 4.73875411\n",
      " 4.6912744  4.90374232 4.5790121  4.6427594  4.66962477 4.35447487\n",
      " 4.72508769 4.81742761 4.24884044 4.64275082 4.16588405 4.5078987\n",
      " 4.13641768 4.20382753 4.68234976 4.76066868 4.75201123 4.76013509\n",
      " 4.74346861 4.62333306 3.89660109 4.26652464 4.27038048 3.95577367\n",
      " 3.92069475 3.9316361  4.86306595 4.8886803  4.80383888 3.97071551\n",
      " 3.9723741  4.38379324 4.38379324 3.96139846 3.96242127 4.05215079\n",
      " 4.01101054 5.47439805 4.75388302 5.54108769 5.5044065  5.5963048\n",
      " 5.62890373 4.92243274 5.17211654 5.17211654 4.76867789 5.04955741\n",
      " 5.61826054 5.02419364 5.03748326 5.06149221 5.04148015 5.09665807\n",
      " 5.05383915 5.5974306  5.60737002 5.60737002 4.61402126 5.64862003\n",
      " 4.59863006 4.55207991 4.62681578 4.48076343 4.70033333 4.67592222\n",
      " 4.68282878 4.59747853 5.60940293 4.67214552 4.67214552 4.63597037\n",
      " 4.62563155 5.6936743  4.6776446  4.54971103 4.61161042 4.53273879\n",
      " 4.53825364 4.50374195 4.70626483 4.72048863 5.72840975 4.4900356\n",
      " 4.709297   5.6956696  4.73112197 4.52582158 4.60524628 4.52162507\n",
      " 4.56028578 4.62621886 4.86488936 4.62110238 4.84489452 4.64914911\n",
      " 5.78572251 5.78993296 4.65773305 5.84101552 5.75442265 4.65040759\n",
      " 4.65040759 4.66004309 4.65704525 4.69343826 4.66255065 4.69116151\n",
      " 4.55402767 4.64470888 4.61893523 4.54758435 4.8383383  4.57679778\n",
      " 4.79533575 4.73629989 4.56021205 4.70088207 4.46758128 4.70652365\n",
      " 4.68924083 4.86993519 4.48193767 4.5001985  4.47671031 4.66151182\n",
      " 4.06217541 4.10152171 4.10231296 4.73397342 4.02626647 4.04397531\n",
      " 4.65935083 4.14583502 4.74565058 4.51264693 4.15985801 4.20598424\n",
      " 4.71679325 4.21710278 4.53671711 4.11775734 4.56599326 4.51467221\n",
      " 4.6706191  4.64224377 4.13802511 4.73344783 4.73344783 4.73344783\n",
      " 4.05421012 4.67169781 3.88899632 3.88899632 4.53813105 4.61345773\n",
      " 4.66371407 4.58194062 4.24900667 3.9760139  4.79238962 4.58105282\n",
      " 4.08932213 4.08932213 4.10491238 3.86594508 4.80346245 3.97484908\n",
      " 3.97470119 3.97470119 4.14959925 3.8911673  4.07640517 4.73850358\n",
      " 4.79068475 4.56909591 4.66774707 4.70127763 4.07828592 4.05174685\n",
      " 4.6148573  4.64404871 4.64404871 4.2511344  3.88844186 3.93678002\n",
      " 4.7007544  4.09007625 4.67294778 3.95019664 3.89171194 4.6102981\n",
      " 4.6102981  3.98394477 4.67864523 3.94404141 3.94404141 3.90433149\n",
      " 3.90433149 4.8197143  4.83911204 4.66172974 3.89735485 3.93936644\n",
      " 4.74512014 4.80479314 4.72314171 4.64687464 3.95420891 3.95420891\n",
      " 4.17158626 4.73834724 4.73834724 3.9294242  4.11625903 4.18951585\n",
      " 4.18951585 4.7481644  4.7481644  3.91760166 4.24550874 4.01273581\n",
      " 4.19953592 4.87020315 4.22960751 4.67461594 3.98650214 4.842808\n",
      " 4.842808   4.30486011 4.3084994  4.74194939 3.94754507 3.94016967\n",
      " 3.99563429 4.11115688 3.93680074 3.95506666 3.9441532  4.32987695\n",
      " 3.97989392 4.16139938 3.95081881 3.97143982 4.2068701  4.20917261\n",
      " 4.20917261 3.98223741 4.19646545 3.96442057 4.00841119 4.02431331\n",
      " 4.04605414 3.98679373 4.0093362  5.46297203 5.46297203 5.47603847\n",
      " 4.74317712 5.52881957 5.62459944 5.30672513 5.52647083 5.60808198\n",
      " 4.96690986 5.10116595 5.02065416 5.16901268 5.17511828 5.54715203\n",
      " 5.65026833 5.60385054 5.56459445 5.59549541 5.36219094 4.60995713\n",
      " 5.57370122 4.61205262 4.61487037 4.64040294 4.56163796 4.63948111\n",
      " 4.63948111 4.63948111 5.77688352 4.53484513 4.59280171 5.71772495\n",
      " 4.50938224 5.6305165  4.5807275  4.51104371 4.64975097 4.69004024\n",
      " 5.61671152 4.71911951 4.51303748 5.87285961 4.70626483 4.70521968\n",
      " 4.71614647 4.49265485 4.74044846 5.77841041 4.54987078 5.6608183\n",
      " 4.56184259 4.56184259 5.78680075 4.81179415 4.55320818 4.53701792\n",
      " 4.50636987 4.76891766 4.80157759 4.75598784 4.88370698 4.57976291\n",
      " 4.63261088 5.97969781 5.74041141 4.63825397 4.63839287 4.88642845\n",
      " 4.79695421 4.69227234 4.81358781 4.63858318 4.78398177 4.71969923\n",
      " 4.35500863 4.29651307 4.55297277 4.28182727 4.51950148 4.68271295\n",
      " 4.27346597 4.85662892 4.84786662 4.84306601 4.08733131 4.13690149\n",
      " 4.11848312 4.11848312 4.3146611  4.60750729 4.12607761 4.03539645\n",
      " 4.67178956 4.19716886 4.68204591 4.12075446 4.65745135 4.68822923\n",
      " 4.01932696 4.14324769 4.14324769 4.09103148 4.59387748 4.03994636\n",
      " 4.15021314 4.06663287 4.16081448 4.55546435 4.73890965 4.73890965\n",
      " 4.16754846 4.1682586  4.20293486 4.51256713 4.56519175 4.18641796\n",
      " 4.17827611 4.70927715 4.6435965  4.21670973 4.06529916 4.14686117\n",
      " 4.55467989 3.93591879 4.62870936 4.04591966 4.04591966 4.05338654\n",
      " 4.05338654 4.80434506 4.1541706  4.72506266 4.25573172 4.77423477\n",
      " 4.7115224  3.99606334 3.99606334 3.88286104 4.06978362 4.66921664\n",
      " 3.89105682 4.16085952 4.75469574 4.64442548 4.19698017 4.67797912\n",
      " 4.67797912 4.77468569 4.82369121 4.84397144 4.72090563 4.28819572\n",
      " 4.6745955  4.69138553 4.84728874 4.82272001 4.16456819 3.92757272\n",
      " 4.68908621 4.27161398 4.80338752 4.69554118 4.08857597 4.66347319\n",
      " 4.22095722 4.23883114 4.19561598 4.75495893 3.95002188 4.6930457\n",
      " 4.21307559 4.23525139 4.22079475 4.66420609 4.29047654 4.85687372\n",
      " 4.75420041 4.75420041 4.26050957 4.76112532 4.85237438 3.99797361\n",
      " 3.98013377 4.06563541 4.16359247 4.00331552 4.00331552 3.97154872\n",
      " 4.34757883 3.98569525 4.21431872 4.00507348 4.2048701  4.18568127\n",
      " 4.18568127 4.33839761 4.24702031 4.20488044 3.98039745 3.99400512\n",
      " 3.99400512 4.72682595 4.74665084 5.59319668 4.75284549 5.03447979\n",
      " 5.58605792 4.96813573 4.96813573 5.37733266 5.35736368 5.61356549\n",
      " 5.60729992 5.70425286 5.72247548 4.54593092 4.54593092 4.54532566\n",
      " 4.59945953 5.74425108 5.8652389  4.63063611 4.62442801 4.58503265\n",
      " 4.60542507 4.60362217 4.81650913 4.56279194 4.53648731 4.60092647\n",
      " 4.59066646 5.86673841 5.86673841 4.53895015 4.58210261 5.92009373\n",
      " 4.66148755 4.47283977 4.6230027  4.47922683 4.47922683 4.56217546\n",
      " 4.57022565 4.74378657 4.58716464 4.50437718 4.52270507 4.62246264\n",
      " 4.62246264 4.70588111 4.70588111 5.79978    5.95934178 4.61699332\n",
      " 4.68110904 4.61773327 4.61773327 4.55695881 4.49660185 5.76618118\n",
      " 4.59941166 4.82327006 4.66475823 4.59322901 4.75684318 4.64112579\n",
      " 4.86547833 5.71967817 4.64792574 4.65269005 4.65489165 4.65489165\n",
      " 4.67829011 4.79521112 4.69265017 4.59830582 4.83766088 4.58535488\n",
      " 4.82028187 4.85997425 4.59603365 4.65017804 4.67377817 4.3720563\n",
      " 4.38563157 4.59035932 4.72835846 4.74892559 4.54019496 4.54985959\n",
      " 4.73254696 4.66104609 4.82130247 4.56723288 4.01484401 4.02103964\n",
      " 4.49424228 4.49424228 4.32508076 4.55404765 4.18348486 4.58956264\n",
      " 4.14477852 4.55724973 4.57481818 4.58042172 4.58042172 4.09090683\n",
      " 4.54542649 4.50302799 4.64101805 4.70888754 4.0645327  4.08052954\n",
      " 4.07506931 4.05043559 4.56409704 4.55116321 4.55372709 3.95277546\n",
      " 4.5594233  4.63915517 4.64345486 4.14821666 4.64613758 4.60903411\n",
      " 4.08840038 4.58778094 4.60847667 4.78910153 4.08487174 4.78780802\n",
      " 4.16981567 4.22886926 4.62090398 4.27488542 4.629936   4.68746992\n",
      " 4.22517358 4.62794366 4.62794366 4.63191046 4.81956042 4.75599494\n",
      " 4.7115946  4.21073283 4.61157006 4.61157006 4.64385949 4.11865062\n",
      " 4.7305103  4.20036355 4.77832813 3.97871371 4.26645552 4.67870888\n",
      " 4.33329858 4.7642859  4.7642859  4.12316889 4.72719051 4.27465632\n",
      " 4.73722595 4.18244702 4.82152116 4.30436488 4.85297056 4.71406455\n",
      " 4.34198311 4.14647121 4.14647121 4.2754707  4.19979761 4.17196634\n",
      " 4.17002953 4.31943217 4.24628714 4.21532581 4.02788508 3.97083097\n",
      " 4.22907277 3.36849356 5.54078449 4.91526017 4.8882829  5.60827727\n",
      " 4.77128257 4.532431   4.6780087  4.6780087  4.67811745 4.62717959\n",
      " 5.67138741 5.72550513 4.58194038 4.58194038 4.70402667 4.70402667\n",
      " 5.6172308  4.53824078 4.73874702 4.70213571 4.75650385 4.71674089\n",
      " 4.52739934 4.84077277 5.70981954 4.70342145 4.5725371  4.55084439\n",
      " 4.75249913 4.79075772 4.75330544 4.57998794 4.65079684 4.4261648\n",
      " 4.64024814 4.59124846 4.59124846 4.47461202 4.00123722 4.59842322\n",
      " 4.21105029 4.11743676 4.11743676 4.07453313 4.71397522 4.1091296\n",
      " 4.11752848 4.51822176 4.10708394 4.64329672 4.59570072 4.03675522\n",
      " 4.03675522 4.23495863 4.13979894 4.65468128 4.65468128 4.55848529\n",
      " 4.55848529 4.70337847 4.03160475 4.61776403 4.58782106 4.75782204\n",
      " 4.75782204 4.0812158  4.06210525 4.16359458 4.07754698 4.07754698\n",
      " 4.70427143 4.84213834 4.31029311 4.19648365 4.69127959 4.26616498\n",
      " 4.76590862 4.63660291 4.2384263  4.73385306 4.14742637 4.29936852\n",
      " 4.69366176 4.28471681 4.38717279 5.1095071  5.6786997  4.57054938\n",
      " 4.63419785 4.71401035 4.675879   5.66885665 4.58492055 4.72814667\n",
      " 4.60061789 4.57698137 4.69283291 4.62885649 4.68576783 4.60083557\n",
      " 4.14857462 4.69805183 4.69805183 4.69805183 4.17661809 4.64828834\n",
      " 4.28475558 4.06237183 4.71440061 4.06254283 4.07482024 4.84385698\n",
      " 3.9882783  4.14300425 4.78822331 4.69144366 4.24569436 4.14728511\n",
      " 4.14728511 4.22064564 4.22064564 4.35983715 4.75835259 4.99039197\n",
      " 4.85086216 4.55901114 4.5339085  4.63316242 4.6630233  4.57565321\n",
      " 4.51505336 4.76032503 4.59264307 4.72055679 4.85537673 4.61728357\n",
      " 5.68261261 4.76506648 4.83800625 4.79689299 4.05326107 4.45310098\n",
      " 4.06153533 4.04056035 4.55234602 4.56610534 4.6831761  3.97193883\n",
      " 4.42870954 4.42870954 4.42870954 4.42255828 4.42255828 4.42255828\n",
      " 4.11665937 4.11665937 4.11813593 4.61846474 4.12542128 4.12542128\n",
      " 4.73046976 4.48358186 4.48358186 4.30826769 4.76027336 4.76027336\n",
      " 4.17248618 4.25284357 4.15951826 4.28341025 4.72094846 5.54329852\n",
      " 4.81680788 5.6277328  5.6277328  5.54341143 4.64738472 4.67615682\n",
      " 4.67615682 4.57285535 4.58589472 4.61383826 4.75768974 4.70829161\n",
      " 4.84576044 4.14549116 4.14549116 4.42979744 4.42979744 4.02932621\n",
      " 4.29170054 4.7430429  4.7430429  4.25589171 4.25589171 4.75631115\n",
      " 4.18612941 4.2911166  4.2911166  4.2911166  4.36161704 4.17674548\n",
      " 4.72508719 4.73137921 4.65739618 4.7610878  4.08489645 4.62607638\n",
      " 4.58385505 4.22753401 4.50346995 4.52655488 4.75477554 4.70291146\n",
      " 4.47828269 4.38325233 4.48579032 4.78151911 4.66663339 4.43191642\n",
      " 4.43191642 4.36245153 4.34697019 4.3069853  4.25535375 4.27429877\n",
      " 4.65363157 4.58812457]\n"
     ]
    }
   ],
   "source": [
    "print(triangulate4world[2])"
   ]
  },
  {
   "cell_type": "code",
   "execution_count": 62,
   "metadata": {},
   "outputs": [],
   "source": [
    "dmin = triangulate4world[2].min()"
   ]
  },
  {
   "cell_type": "code",
   "execution_count": 63,
   "metadata": {},
   "outputs": [],
   "source": [
    "dmax = triangulate4world[2].max()"
   ]
  },
  {
   "cell_type": "code",
   "execution_count": 64,
   "metadata": {},
   "outputs": [],
   "source": [
    "ddepth = (dmax - dmin)/19"
   ]
  },
  {
   "cell_type": "code",
   "execution_count": 65,
   "metadata": {},
   "outputs": [],
   "source": [
    "n = [0,0,1]"
   ]
  },
  {
   "cell_type": "code",
   "execution_count": 66,
   "metadata": {},
   "outputs": [
    {
     "name": "stdout",
     "output_type": "stream",
     "text": [
      "dmin:  3.3684935610743167 dmax:  5.979697809617511 ddepth:  0.13743180255490495\n"
     ]
    }
   ],
   "source": [
    "print(\"dmin: \", dmin, \"dmax: \", dmax, \"ddepth: \", ddepth)"
   ]
  },
  {
   "cell_type": "code",
   "execution_count": 67,
   "metadata": {},
   "outputs": [],
   "source": [
    "def darray(dmin, dmax,number):\n",
    "    da = []\n",
    "    ddepth = (dmax - dmin)/19\n",
    "    for i in range(number):\n",
    "        da.append(dmin+i*ddepth)\n",
    "    return da"
   ]
  },
  {
   "cell_type": "code",
   "execution_count": 68,
   "metadata": {},
   "outputs": [],
   "source": [
    "deptharray = darray(0,dmax,20)"
   ]
  },
  {
   "cell_type": "code",
   "execution_count": 69,
   "metadata": {},
   "outputs": [],
   "source": [
    "from numpy.linalg import inv"
   ]
  },
  {
   "cell_type": "code",
   "execution_count": 70,
   "metadata": {},
   "outputs": [],
   "source": [
    "def Homo(k,R2,t,n,depth):\n",
    "    pmatrix1 = np.concatenate((R2,-t), axis=1)\n",
    "    pmatrix2 = np.append(n,depth).reshape(1,4)\n",
    "    p = np.concatenate([pmatrix1,pmatrix2])\n",
    "    H = p@inv(p)\n",
    "    H = H[0:3,0:3]\n",
    "    Homo = k@H@inv(k)\n",
    "    return Homo"
   ]
  },
  {
   "cell_type": "code",
   "execution_count": 71,
   "metadata": {},
   "outputs": [],
   "source": [
    "Homo1 = Homo(mtx,R2,t,n,deptharray[18])"
   ]
  },
  {
   "cell_type": "code",
   "execution_count": 72,
   "metadata": {},
   "outputs": [
    {
     "name": "stdout",
     "output_type": "stream",
     "text": [
      "[[ 1.00000000e+00  4.31370810e-18  0.00000000e+00]\n",
      " [ 5.19401800e-18  1.00000000e+00  2.27373675e-13]\n",
      " [ 0.00000000e+00 -4.60650220e-23  1.00000000e+00]]\n"
     ]
    }
   ],
   "source": [
    "print(Homo1)"
   ]
  },
  {
   "cell_type": "code",
   "execution_count": 73,
   "metadata": {},
   "outputs": [
    {
     "name": "stdout",
     "output_type": "stream",
     "text": [
      "0.9441628120448702\n"
     ]
    }
   ],
   "source": [
    "print(deptharray[3])"
   ]
  },
  {
   "cell_type": "code",
   "execution_count": 74,
   "metadata": {},
   "outputs": [
    {
     "name": "stdout",
     "output_type": "stream",
     "text": [
      "00\n",
      "./res/part 4/warp00.png\n",
      "031472093734829004\n",
      "./res/part 4/warp031472093734829004.png\n",
      "06294418746965801\n",
      "./res/part 4/warp06294418746965801.png\n",
      "09441628120448702\n",
      "./res/part 4/warp09441628120448702.png\n",
      "12588837493931602\n",
      "./res/part 4/warp12588837493931602.png\n",
      "15736046867414502\n",
      "./res/part 4/warp15736046867414502.png\n",
      "18883256240897404\n",
      "./res/part 4/warp18883256240897404.png\n",
      "22030465614380303\n",
      "./res/part 4/warp22030465614380303.png\n",
      "25177674987863203\n",
      "./res/part 4/warp25177674987863203.png\n",
      "28324884361346103\n",
      "./res/part 4/warp28324884361346103.png\n",
      "31472093734829003\n",
      "./res/part 4/warp31472093734829003.png\n",
      "34619303108311903\n",
      "./res/part 4/warp34619303108311903.png\n",
      "37766512481794807\n",
      "./res/part 4/warp37766512481794807.png\n",
      "4091372185527771\n",
      "./res/part 4/warp4091372185527771.png\n",
      "4406093122876061\n",
      "./res/part 4/warp4406093122876061.png\n",
      "4720814060224351\n",
      "./res/part 4/warp4720814060224351.png\n",
      "5035534997572641\n",
      "./res/part 4/warp5035534997572641.png\n",
      "5350255934920931\n",
      "./res/part 4/warp5350255934920931.png\n",
      "5664976872269221\n",
      "./res/part 4/warp5664976872269221.png\n",
      "5979697809617511\n",
      "./res/part 4/warp5979697809617511.png\n"
     ]
    }
   ],
   "source": [
    "for d in deptharray:\n",
    "    Hh = Homo(mtx,R2,t,n,d)\n",
    "    warpname = str(d).replace(\".\",\"\")\n",
    "    print(warpname)\n",
    "    print(\"./res/part 4/warp\"+warpname+\".png\")"
   ]
  },
  {
   "cell_type": "code",
   "execution_count": 75,
   "metadata": {},
   "outputs": [],
   "source": [
    "imgr4 = cv2.imread('./Pair image/myright.JPG')\n",
    "imgrg4 = cv2.cvtColor(imgr4,cv2.COLOR_BGR2GRAY)"
   ]
  },
  {
   "cell_type": "code",
   "execution_count": 76,
   "metadata": {},
   "outputs": [],
   "source": [
    "count = 0\n",
    "for d in deptharray:\n",
    "    Hh = Homo(mtx,R2,t,n,d)\n",
    "    imgwarpn = cv2.warpPerspective(imgrg4,Hh,(imgrg4.shape[1],imgrg4.shape[0]))\n",
    "    count+=1\n",
    "    cv2.imwrite(\"./res/part 4/warp\"+str(count)+\".png\", imgwarpn)"
   ]
  },
  {
   "cell_type": "code",
   "execution_count": 77,
   "metadata": {},
   "outputs": [],
   "source": [
    "#imgwarpn = cv2.warpPerspective(imgrg4,Homo1,(imgrg4.shape[1],imgrg4.shape[0]))"
   ]
  },
  {
   "cell_type": "code",
   "execution_count": 78,
   "metadata": {},
   "outputs": [],
   "source": [
    "#cv2.imwrite(\"./res/part 4/warp.png\", imgwarpn)"
   ]
  },
  {
   "cell_type": "markdown",
   "metadata": {},
   "source": [
    "### 4.2 compute the depth picture.\n",
    "#### depth1 = wrap1 - original\n",
    "#### depth2 = wrap2 - orignial\n"
   ]
  },
  {
   "cell_type": "code",
   "execution_count": null,
   "metadata": {},
   "outputs": [],
   "source": []
  },
  {
   "cell_type": "code",
   "execution_count": null,
   "metadata": {},
   "outputs": [],
   "source": []
  },
  {
   "cell_type": "code",
   "execution_count": null,
   "metadata": {},
   "outputs": [],
   "source": []
  }
 ],
 "metadata": {
  "kernelspec": {
   "display_name": "Python 3",
   "language": "python",
   "name": "python3"
  },
  "language_info": {
   "codemirror_mode": {
    "name": "ipython",
    "version": 3
   },
   "file_extension": ".py",
   "mimetype": "text/x-python",
   "name": "python",
   "nbconvert_exporter": "python",
   "pygments_lexer": "ipython3",
   "version": "3.6.3"
  }
 },
 "nbformat": 4,
 "nbformat_minor": 2
}
