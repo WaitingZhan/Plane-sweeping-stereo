{
 "cells": [
  {
   "cell_type": "markdown",
   "metadata": {},
   "source": [
    "# Part 1: Camera calibration (Intrinsic parameters)"
   ]
  },
  {
   "cell_type": "code",
   "execution_count": 1,
   "metadata": {},
   "outputs": [],
   "source": [
    "import numpy as np\n",
    "import cv2\n",
    "import glob\n",
    "import os"
   ]
  },
  {
   "cell_type": "code",
   "execution_count": 2,
   "metadata": {},
   "outputs": [
    {
     "name": "stdout",
     "output_type": "stream",
     "text": [
      "3.3.0\n"
     ]
    }
   ],
   "source": [
    "print(cv2.__version__)"
   ]
  },
  {
   "cell_type": "code",
   "execution_count": 3,
   "metadata": {},
   "outputs": [
    {
     "name": "stdout",
     "output_type": "stream",
     "text": [
      "3.6.3\n"
     ]
    }
   ],
   "source": [
    "from platform import python_version\n",
    "print(python_version())"
   ]
  },
  {
   "cell_type": "code",
   "execution_count": 4,
   "metadata": {},
   "outputs": [],
   "source": [
    " # termination criteria\n",
    "criteria = (cv2.TERM_CRITERIA_EPS + cv2.TERM_CRITERIA_MAX_ITER, 30, 0.001)\n",
    "# prepare object points, like (0,0,0), (1,0,0), (2,0,0) ....,(6,5,0)\n",
    "objp = np.zeros((6*9,3), np.float32)\n",
    "objp[:,:2] = np.mgrid[0:9,0:6].T.reshape(-1,2)"
   ]
  },
  {
   "cell_type": "code",
   "execution_count": 5,
   "metadata": {},
   "outputs": [],
   "source": [
    "# Arrays to store object points and image points from all the images.\n",
    "objpoints = [] # 3d point in real world space\n",
    "imgpoints = [] # 2d points in image plane.\n"
   ]
  },
  {
   "cell_type": "code",
   "execution_count": 6,
   "metadata": {},
   "outputs": [],
   "source": [
    "images = glob.glob('./Chessboard3/*.JPG')\n"
   ]
  },
  {
   "cell_type": "code",
   "execution_count": 7,
   "metadata": {},
   "outputs": [
    {
     "name": "stdout",
     "output_type": "stream",
     "text": [
      "['./Chessboard3/IMG_1068.JPG', './Chessboard3/IMG_1069.JPG', './Chessboard3/IMG_1057.JPG', './Chessboard3/IMG_1061.JPG', './Chessboard3/IMG_1060.JPG', './Chessboard3/IMG_1062.JPG', './Chessboard3/IMG_1063.JPG', './Chessboard3/IMG_1067.JPG', './Chessboard3/IMG_1066.JPG', './Chessboard3/IMG_1072.JPG', './Chessboard3/IMG_1064.JPG', './Chessboard3/IMG_1070.JPG', './Chessboard3/IMG_1059.JPG', './Chessboard3/IMG_1071.JPG', './Chessboard3/IMG_1065.JPG']\n"
     ]
    }
   ],
   "source": [
    "print(images)"
   ]
  },
  {
   "cell_type": "code",
   "execution_count": 8,
   "metadata": {},
   "outputs": [],
   "source": [
    "for fname in images:\n",
    "    img = cv2.imread(fname)\n",
    "    gray = cv2.cvtColor(img,cv2.COLOR_BGR2GRAY)\n",
    "    # Find the chess board corners\n",
    "    ret, corners = cv2.findChessboardCorners(gray, (9,6),None)\n",
    "    # If found, add object points, image points (after refining them)\n",
    "    if ret == True:\n",
    "        objpoints.append(objp)\n",
    "        cv2.cornerSubPix(gray,corners,(11,11),(-1,-1),criteria)\n",
    "        imgpoints.append(corners)\n",
    "        # Draw and display the corners\n",
    "        cv2.drawChessboardCorners(img, (9,6), corners,ret)\n",
    "        name = fname.replace(\"./Chessboard/\",\"\")\n",
    "        cv2.imwrite(\"./res/part 1/\"+str(name),img)\n",
    "        #print(\"./res/part 1/\"+str(name)+\".png\")\n",
    "        #cv2.imshow('img',img)\n",
    "        #cv2.waitKey(500)\n",
    "        #cv2.destroyAllWindows()"
   ]
  },
  {
   "cell_type": "code",
   "execution_count": 9,
   "metadata": {},
   "outputs": [],
   "source": [
    " ret, mtx, dist, rvecs, tvecs = cv2.calibrateCamera(objpoints, imgpoints, gray.shape[::-1],None,None)"
   ]
  },
  {
   "cell_type": "code",
   "execution_count": 10,
   "metadata": {},
   "outputs": [
    {
     "name": "stdout",
     "output_type": "stream",
     "text": [
      "1.628830895986753\n"
     ]
    }
   ],
   "source": [
    "print(ret)\n"
   ]
  },
  {
   "cell_type": "code",
   "execution_count": 11,
   "metadata": {},
   "outputs": [
    {
     "name": "stdout",
     "output_type": "stream",
     "text": [
      "[[2.35823484e+03 0.00000000e+00 1.27505685e+03]\n",
      " [0.00000000e+00 2.35363433e+03 9.73403504e+02]\n",
      " [0.00000000e+00 0.00000000e+00 1.00000000e+00]]\n"
     ]
    }
   ],
   "source": [
    "print(mtx)"
   ]
  },
  {
   "cell_type": "code",
   "execution_count": 12,
   "metadata": {},
   "outputs": [
    {
     "name": "stdout",
     "output_type": "stream",
     "text": [
      "[[ 0.10990381 -0.01088416 -0.00567028 -0.00663648 -1.30729001]]\n"
     ]
    }
   ],
   "source": [
    "print(dist)"
   ]
  },
  {
   "cell_type": "code",
   "execution_count": 13,
   "metadata": {},
   "outputs": [
    {
     "data": {
      "text/plain": [
       "[-1.22057713]"
      ]
     },
     "execution_count": 13,
     "metadata": {},
     "output_type": "execute_result"
    }
   ],
   "source": [
    "[ 0.10990381 -0.01088417 -0.00567028 -0.00663648 -1.30729001]"
   ]
  },
  {
   "cell_type": "code",
   "execution_count": 14,
   "metadata": {},
   "outputs": [],
   "source": [
    "principalPoint = (mtx[0][2],mtx[1][2])"
   ]
  },
  {
   "cell_type": "code",
   "execution_count": 15,
   "metadata": {},
   "outputs": [],
   "source": [
    "focal = (mtx[0][0]+mtx[1][1])/2"
   ]
  },
  {
   "cell_type": "code",
   "execution_count": 16,
   "metadata": {},
   "outputs": [
    {
     "name": "stdout",
     "output_type": "stream",
     "text": [
      "(1275.0568472391526, 973.4035044444332)\n"
     ]
    }
   ],
   "source": [
    "print(principalPoint)"
   ]
  },
  {
   "cell_type": "code",
   "execution_count": 17,
   "metadata": {},
   "outputs": [],
   "source": [
    "img = cv2.imread('./Chessboard3/IMG_1068.JPG')"
   ]
  },
  {
   "cell_type": "code",
   "execution_count": 18,
   "metadata": {},
   "outputs": [
    {
     "data": {
      "text/plain": [
       "True"
      ]
     },
     "execution_count": 18,
     "metadata": {},
     "output_type": "execute_result"
    }
   ],
   "source": [
    "dstchess = cv2.undistort(img, mtx, dist)\n",
    "cv2.imwrite('./calibresult/mytest.png',dstchess)"
   ]
  },
  {
   "cell_type": "code",
   "execution_count": null,
   "metadata": {},
   "outputs": [],
   "source": []
  },
  {
   "cell_type": "markdown",
   "metadata": {},
   "source": [
    "# Part 2: Take the pictures"
   ]
  },
  {
   "cell_type": "code",
   "execution_count": null,
   "metadata": {},
   "outputs": [],
   "source": []
  },
  {
   "cell_type": "markdown",
   "metadata": {},
   "source": [
    "# Part 3: Compute the relative camera pose"
   ]
  },
  {
   "cell_type": "code",
   "execution_count": 19,
   "metadata": {},
   "outputs": [],
   "source": [
    "from matplotlib import pyplot as plt\n",
    "\n",
    "imgo1 = cv2.imread('./Pair image2/myleft.JPG')  #queryimage # left image\n",
    "imgo2 = cv2.imread('./Pair image2/myright.JPG') #trainimage # right image\n"
   ]
  },
  {
   "cell_type": "markdown",
   "metadata": {},
   "source": [
    "## 3.1 undistort the picture"
   ]
  },
  {
   "cell_type": "code",
   "execution_count": 20,
   "metadata": {},
   "outputs": [
    {
     "data": {
      "text/plain": [
       "True"
      ]
     },
     "execution_count": 20,
     "metadata": {},
     "output_type": "execute_result"
    }
   ],
   "source": [
    "# undistort\n",
    "dst1 = cv2.undistort(imgo1, mtx, dist)\n",
    "cv2.imwrite('./calibresult/myleft.png',dst1)\n",
    "# undistort\n",
    "dst2 = cv2.undistort(imgo2, mtx, dist)\n",
    "cv2.imwrite('./calibresult/myright.png',dst1)"
   ]
  },
  {
   "cell_type": "code",
   "execution_count": 21,
   "metadata": {},
   "outputs": [],
   "source": [
    "\n",
    "img1 = cv2.imread('./calibresult/0.JPG')  #queryimage # left image\n",
    "img1 = cv2.cvtColor(img1,cv2.COLOR_BGR2GRAY)\n",
    "img2 = cv2.imread('./calibresult/1.JPG') #trainimage # right image\n",
    "img2 = cv2.cvtColor(img2,cv2.COLOR_BGR2GRAY)"
   ]
  },
  {
   "cell_type": "code",
   "execution_count": 22,
   "metadata": {},
   "outputs": [],
   "source": [
    "# Initiate SIFT detector\n",
    "sift = cv2.xfeatures2d.SIFT_create()\n",
    "# find the keypoints and descriptors with SIFT\n",
    "kp1, des1 = sift.detectAndCompute(img1,None)\n",
    "kp2, des2 = sift.detectAndCompute(img2,None)\n",
    "\n",
    "# FLANN parameters\n",
    "FLANN_INDEX_KDTREE = 0\n",
    "index_params = dict(algorithm = FLANN_INDEX_KDTREE, trees = 5)\n",
    "search_params = dict(checks=50)\n",
    "\n",
    "flann = cv2.FlannBasedMatcher(index_params,search_params)\n",
    "matches = flann.knnMatch(des1,des2,k=2)\n",
    "\n",
    "good = []\n",
    "pts1 = []\n",
    "pts2 = []\n",
    "\n",
    "# ratio test as per Lowe's paper\n",
    "for i,(m,n) in enumerate(matches):\n",
    "    if m.distance < 0.5*n.distance:\n",
    "        good.append(m)\n",
    "        pts2.append(kp2[m.trainIdx].pt)\n",
    "        pts1.append(kp1[m.queryIdx].pt)\n",
    "        \n",
    "pts1 = np.int32(pts1)\n",
    "pts2 = np.int32(pts2)\n",
    "F, mask = cv2.findFundamentalMat(pts1,pts2,cv2.FM_LMEDS)\n"
   ]
  },
  {
   "cell_type": "code",
   "execution_count": 23,
   "metadata": {},
   "outputs": [
    {
     "name": "stdout",
     "output_type": "stream",
     "text": [
      "[[1926  462]\n",
      " [1130  439]\n",
      " [1180  441]\n",
      " ...\n",
      " [1370 1346]\n",
      " [ 658 1699]\n",
      " [1207  724]]\n"
     ]
    }
   ],
   "source": [
    "print(pts1)"
   ]
  },
  {
   "cell_type": "markdown",
   "metadata": {},
   "source": [
    "Got the list of best matches from both images"
   ]
  },
  {
   "cell_type": "code",
   "execution_count": 24,
   "metadata": {},
   "outputs": [],
   "source": [
    "\n",
    "# We select only inlier points\n",
    "pts1 = pts1[mask.ravel()==1]\n",
    "pts2 = pts2[mask.ravel()==1]"
   ]
  },
  {
   "cell_type": "code",
   "execution_count": 25,
   "metadata": {},
   "outputs": [
    {
     "name": "stdout",
     "output_type": "stream",
     "text": [
      "[[-3.84128923e-08  2.54493575e-06 -6.20588721e-04]\n",
      " [-7.91415426e-07  6.66958672e-08 -1.59205797e-02]\n",
      " [ 1.21834113e-05  1.26101212e-02  1.00000000e+00]]\n"
     ]
    }
   ],
   "source": [
    "print(F)"
   ]
  },
  {
   "cell_type": "code",
   "execution_count": null,
   "metadata": {},
   "outputs": [],
   "source": []
  },
  {
   "cell_type": "markdown",
   "metadata": {},
   "source": [
    "Next we find the epilines. Epilines corresponding to the points in first image is drawn on second image. So mentioning of correct images are important here. We get an array of lines. So we define a new function to draw these lines on the images."
   ]
  },
  {
   "cell_type": "code",
   "execution_count": 26,
   "metadata": {},
   "outputs": [],
   "source": [
    "def drawlines(img1,img2,lines,pts1,pts2):\n",
    "    ''' img1 - image on which we draw the epilines for the points in img2\n",
    "        lines - corresponding epilines '''\n",
    "    r,c = img1.shape\n",
    "    img1 = cv2.cvtColor(img1,cv2.COLOR_GRAY2BGR)\n",
    "    img2 = cv2.cvtColor(img2,cv2.COLOR_GRAY2BGR)\n",
    "    for r,pt1,pt2 in zip(lines,pts1,pts2):\n",
    "        color = tuple(np.random.randint(0,255,3).tolist())\n",
    "        x0,y0 = map(int, [0, -r[2]/r[1] ])\n",
    "        x1,y1 = map(int, [c, -(r[2]+r[0]*c)/r[1] ])\n",
    "        img1 = cv2.line(img1, (x0,y0), (x1,y1), color,1)\n",
    "        img1 = cv2.circle(img1,tuple(pt1),5,color,-1)\n",
    "        img2 = cv2.circle(img2,tuple(pt2),5,color,-1)\n",
    "    return img1,img2"
   ]
  },
  {
   "cell_type": "markdown",
   "metadata": {},
   "source": [
    "Now we find the epilines in both the images and draw them."
   ]
  },
  {
   "cell_type": "code",
   "execution_count": 27,
   "metadata": {},
   "outputs": [
    {
     "data": {
      "image/png": "[encoded data removed]",
      "text/plain": [
       "<Figure size 432x288 with 2 Axes>"
      ]
     },
     "metadata": {
      "needs_background": "light"
     },
     "output_type": "display_data"
    }
   ],
   "source": [
    "# Find epilines corresponding to points in right image (second image) and\n",
    "# drawing its lines on left image\n",
    "lines1 = cv2.computeCorrespondEpilines(pts2.reshape(-1,1,2), 2,F)\n",
    "lines1 = lines1.reshape(-1,3)\n",
    "img5,img6 = drawlines(img1,img2,lines1,pts1,pts2)\n",
    "\n",
    "# Find epilines corresponding to points in left image (first image) and\n",
    "# drawing its lines on right image\n",
    "lines2 = cv2.computeCorrespondEpilines(pts1.reshape(-1,1,2), 1,F)\n",
    "lines2 = lines2.reshape(-1,3)\n",
    "img3,img4 = drawlines(img2,img1,lines2,pts2,pts1)\n",
    "\n",
    "plt.subplot(121),plt.imshow(img5)\n",
    "plt.subplot(122),plt.imshow(img3)\n",
    "cv2.imwrite(\"./res/part 2/epilineleft.png\", img5)\n",
    "cv2.imwrite(\"./res/part 2/epilineright.png\", img3)\n",
    "plt.show()\n",
    "cv2.destroyAllWindows()"
   ]
  },
  {
   "cell_type": "markdown",
   "metadata": {},
   "source": [
    "Compute the essential matrix E\n",
    "https://docs.opencv.org/3.1.0/d9/d0c/group__calib3d.html#ga13f7e34de8fa516a686a56af1196247f"
   ]
  },
  {
   "cell_type": "code",
   "execution_count": 28,
   "metadata": {},
   "outputs": [],
   "source": [
    "E, mask = cv2.findEssentialMat(pts1, pts2, focal, principalPoint, method=cv2.RANSAC, prob=0.999, threshold=3.0)"
   ]
  },
  {
   "cell_type": "code",
   "execution_count": 29,
   "metadata": {},
   "outputs": [
    {
     "name": "stdout",
     "output_type": "stream",
     "text": [
      "[[ 0.00344321  0.27292553  0.05371569]\n",
      " [-0.10668505  0.00622317 -0.69677576]\n",
      " [-0.01352015  0.65216834 -0.01382731]]\n"
     ]
    }
   ],
   "source": [
    "print(E)"
   ]
  },
  {
   "cell_type": "code",
   "execution_count": 30,
   "metadata": {},
   "outputs": [],
   "source": [
    "R1,R2,t = cv2.decomposeEssentialMat(E)"
   ]
  },
  {
   "cell_type": "markdown",
   "metadata": {},
   "source": [
    "### decompose the essential matrix, we got two rotaion matrixs, R1(3*3) and R2(3*3), and one translation vector (3*1).\n",
    "### We need the  projection matrix of the first camera and projection matrix of the second camera to calculate the triangulatePoints\n",
    "### projMatr1 – 3x4 projection matrix of the first camera.\n",
    "### projMatr2 – 3x4 projection matrix of the second camera."
   ]
  },
  {
   "cell_type": "code",
   "execution_count": 31,
   "metadata": {},
   "outputs": [
    {
     "name": "stdout",
     "output_type": "stream",
     "text": [
      "[[ 0.84899521  0.09170774 -0.52038143]\n",
      " [ 0.09331245 -0.99536707 -0.02317731]\n",
      " [-0.52009608 -0.02888064 -0.85361934]]\n"
     ]
    }
   ],
   "source": [
    "print(R1)"
   ]
  },
  {
   "cell_type": "code",
   "execution_count": 32,
   "metadata": {},
   "outputs": [
    {
     "name": "stdout",
     "output_type": "stream",
     "text": [
      "[[ 9.68320962e-01 -5.99263511e-02  2.42411525e-01]\n",
      " [ 6.19095553e-02  9.98081604e-01 -5.64872089e-04]\n",
      " [-2.41912633e-01  1.55545672e-02  9.70173352e-01]]\n"
     ]
    }
   ],
   "source": [
    "print(R2)"
   ]
  },
  {
   "cell_type": "code",
   "execution_count": 33,
   "metadata": {},
   "outputs": [
    {
     "name": "stdout",
     "output_type": "stream",
     "text": [
      "[[ 0.91936328]\n",
      " [ 0.07852536]\n",
      " [-0.38549309]]\n"
     ]
    }
   ],
   "source": [
    "print(t)"
   ]
  },
  {
   "cell_type": "markdown",
   "metadata": {},
   "source": [
    "### There are 4 possible combination for the projection matrix.\n",
    "#### Case 1:  projMatr1 = K [ I 0]   projMatr2 = K[R1 t]\n",
    "#### Case 2:  projMatr1 = K[ I 0]   projMatr2 = K[R1  -t]\n",
    "#### Case 3:  projMatr1 = K[ I 0]   projMatr2 = K[R2 t]\n",
    "#### Case 4:  projMatr1 = K[ I 0]   projMatr2 = K[R2 -t]\n"
   ]
  },
  {
   "cell_type": "code",
   "execution_count": 34,
   "metadata": {},
   "outputs": [],
   "source": [
    "points1 = np.array(pts1).astype(float).T \n",
    "points2 = np.array(pts2).astype(float).T"
   ]
  },
  {
   "cell_type": "code",
   "execution_count": 35,
   "metadata": {},
   "outputs": [],
   "source": [
    "# make a projection matrix for camera 1\n",
    "projMatr1 = mtx@np.array([[1,0,0,0],[0,1,0,0],[0,0,1,0]])"
   ]
  },
  {
   "cell_type": "code",
   "execution_count": 36,
   "metadata": {},
   "outputs": [],
   "source": [
    "# case 1\n",
    "projMatr21 = mtx@np.concatenate((R1,t),1)\n",
    "# case 2\n",
    "projMatr22 = mtx@np.concatenate((R1,-t),1)\n",
    "# case 3\n",
    "projMatr23 = mtx@np.concatenate((R2,t),1)\n",
    "# case 4\n",
    "projMatr24 = mtx@np.concatenate((R2,-t),1)"
   ]
  },
  {
   "cell_type": "code",
   "execution_count": 37,
   "metadata": {},
   "outputs": [],
   "source": [
    "triangulate1 = cv2.triangulatePoints(projMatr1, projMatr21,points1,points2)\n",
    "triangulate2 = cv2.triangulatePoints(projMatr1, projMatr22,points1,points2)\n",
    "triangulate3 = cv2.triangulatePoints(projMatr1, projMatr23,points1,points2)\n",
    "triangulate4 = cv2.triangulatePoints(projMatr1, projMatr24,points1,points2)"
   ]
  },
  {
   "cell_type": "markdown",
   "metadata": {},
   "source": [
    "## 3.2 check the distance\n",
    "### 3.2.1 case 1"
   ]
  },
  {
   "cell_type": "code",
   "execution_count": 38,
   "metadata": {},
   "outputs": [],
   "source": [
    "triangulate1world = np.true_divide(triangulate1.T[:,:3], triangulate1.T[:,[-1]]).T"
   ]
  },
  {
   "cell_type": "code",
   "execution_count": 39,
   "metadata": {},
   "outputs": [
    {
     "name": "stdout",
     "output_type": "stream",
     "text": [
      "[[ -4.9881863    3.92911773 -18.07132373]\n",
      " [ -0.09833085  -0.36255284   1.59871818]\n",
      " [ -0.06923101  -0.38847826   1.7175466 ]\n",
      " ...\n",
      " [ -0.19436969   0.05058088   1.15145954]\n",
      " [  0.25678797   0.3901072    2.94078597]\n",
      " [  0.09246336   0.36448552   2.29745015]]\n"
     ]
    }
   ],
   "source": [
    "print(triangulate1world.T)"
   ]
  },
  {
   "cell_type": "code",
   "execution_count": 40,
   "metadata": {},
   "outputs": [
    {
     "name": "stdout",
     "output_type": "stream",
     "text": [
      "-1470.0314412191167\n"
     ]
    }
   ],
   "source": [
    "print(triangulate1world[2].min())"
   ]
  },
  {
   "cell_type": "markdown",
   "metadata": {},
   "source": [
    "#### case 1 got negtive distance, get rid of it."
   ]
  },
  {
   "cell_type": "markdown",
   "metadata": {},
   "source": [
    "### 3.2.2 case 2"
   ]
  },
  {
   "cell_type": "code",
   "execution_count": 41,
   "metadata": {},
   "outputs": [
    {
     "name": "stdout",
     "output_type": "stream",
     "text": [
      "-902.423228173481\n"
     ]
    }
   ],
   "source": [
    "triangulate2world = np.true_divide(triangulate2.T[:,:3], triangulate2.T[:,[-1]]).T\n",
    "print(triangulate2world[2].min())"
   ]
  },
  {
   "cell_type": "markdown",
   "metadata": {},
   "source": [
    "#### case 2 got negtive distance, get rid of it."
   ]
  },
  {
   "cell_type": "markdown",
   "metadata": {},
   "source": [
    "### 3.2.2 case 3"
   ]
  },
  {
   "cell_type": "code",
   "execution_count": 42,
   "metadata": {},
   "outputs": [
    {
     "name": "stdout",
     "output_type": "stream",
     "text": [
      "-5.979697809617511\n"
     ]
    }
   ],
   "source": [
    "triangulate3world = np.true_divide(triangulate3.T[:,:3], triangulate3.T[:,[-1]]).T\n",
    "print(triangulate3world[2].min())"
   ]
  },
  {
   "cell_type": "markdown",
   "metadata": {},
   "source": [
    "#### case 3 got negtive distance, so I get rit of this case."
   ]
  },
  {
   "cell_type": "markdown",
   "metadata": {},
   "source": [
    "### 3.2.2 case 4"
   ]
  },
  {
   "cell_type": "code",
   "execution_count": 43,
   "metadata": {},
   "outputs": [
    {
     "name": "stdout",
     "output_type": "stream",
     "text": [
      "3.3684935610743167\n"
     ]
    }
   ],
   "source": [
    "triangulate4world = np.true_divide(triangulate4.T[:,:3], triangulate4.T[:,[-1]]).T\n",
    "print(triangulate4world[2].min())"
   ]
  },
  {
   "cell_type": "markdown",
   "metadata": {},
   "source": [
    "#### case 4 has the positive distance , so the (R2,-t) is the right R and t"
   ]
  },
  {
   "cell_type": "code",
   "execution_count": 44,
   "metadata": {},
   "outputs": [],
   "source": [
    "pixelh = mtx@triangulate4world"
   ]
  },
  {
   "cell_type": "code",
   "execution_count": 45,
   "metadata": {},
   "outputs": [
    {
     "name": "stdout",
     "output_type": "stream",
     "text": [
      "[[1.06748020e+04 2.55879846e+03 5.54248675e+00]\n",
      " [5.83287275e+03 2.26939254e+03 5.16178252e+00]\n",
      " [6.13372876e+03 2.29262796e+03 5.19807117e+00]\n",
      " ...\n",
      " [3.74847595e+03 4.60253533e+03 4.27429877e+00]\n",
      " [6.89192088e+03 5.98281421e+03 4.65363157e+00]\n",
      " [6.28557861e+03 6.17929780e+03 4.58812457e+00]]\n"
     ]
    }
   ],
   "source": [
    "print(pixelh.T)"
   ]
  },
  {
   "cell_type": "code",
   "execution_count": 46,
   "metadata": {},
   "outputs": [],
   "source": [
    "pixel = np.true_divide(pixelh.T[:,:2],pixelh.T[:,[-1]])"
   ]
  },
  {
   "cell_type": "code",
   "execution_count": 47,
   "metadata": {},
   "outputs": [
    {
     "name": "stdout",
     "output_type": "stream",
     "text": [
      "[[1926.  462.]\n",
      " [1130.  439.]\n",
      " [1180.  441.]\n",
      " ...\n",
      " [ 877. 1076.]\n",
      " [1481. 1285.]\n",
      " [1370. 1346.]]\n"
     ]
    }
   ],
   "source": [
    "print(points1.T)"
   ]
  },
  {
   "cell_type": "code",
   "execution_count": 48,
   "metadata": {},
   "outputs": [
    {
     "name": "stdout",
     "output_type": "stream",
     "text": [
      "[[1925.99504319  461.66974762]\n",
      " [1130.01133377  439.65287915]\n",
      " [1180.00092092  441.05359219]\n",
      " ...\n",
      " [ 876.98033082 1076.79307835]\n",
      " [1480.97690391 1285.62266192]\n",
      " [1369.96685853 1346.8025348 ]]\n"
     ]
    }
   ],
   "source": [
    "print(pixel)"
   ]
  },
  {
   "cell_type": "code",
   "execution_count": 49,
   "metadata": {},
   "outputs": [
    {
     "name": "stdout",
     "output_type": "stream",
     "text": [
      "(944, 2)\n"
     ]
    }
   ],
   "source": [
    "print(pixel.shape)"
   ]
  },
  {
   "cell_type": "code",
   "execution_count": 50,
   "metadata": {},
   "outputs": [],
   "source": [
    "imgleft = cv2.imread('./Pair image2/myleft.JPG')  # left image\n",
    "imgright = cv2.imread('./Pair image2/myright.JPG') # right image\n",
    "\n"
   ]
  },
  {
   "cell_type": "code",
   "execution_count": 51,
   "metadata": {},
   "outputs": [],
   "source": [
    "cv2.imshow('left',imgleft)"
   ]
  },
  {
   "cell_type": "code",
   "execution_count": 52,
   "metadata": {},
   "outputs": [
    {
     "data": {
      "text/plain": [
       "True"
      ]
     },
     "execution_count": 52,
     "metadata": {},
     "output_type": "execute_result"
    }
   ],
   "source": [
    "for point in pixel.astype(int):\n",
    "    #print(tuple(point))\n",
    "    \n",
    "    imgleft = cv2.circle(imgleft,tuple(point),10,(0, 0, 200),-1)\n",
    "for point in points1.T.astype(int):\n",
    "    #print(tuple(point))\n",
    "    imgleft = cv2.circle(imgleft,tuple(point),5,(200, 0, 0),-1)\n",
    "cv2.imwrite(\"./res/part 3/reporject.png\", imgleft)\n",
    "#plt.imshow(imgleft)\n",
    "#cv2.imshow('left',imgleft )\n",
    "#cv2.waitKey(0)\n",
    "#cv2.destroyAllWindows()\n"
   ]
  },
  {
   "cell_type": "markdown",
   "metadata": {},
   "source": [
    "# Part 4: Plane-sweeping stereo"
   ]
  },
  {
   "cell_type": "markdown",
   "metadata": {},
   "source": [
    "### 4.1 compute 20 depth to generate a array of 20 depth"
   ]
  },
  {
   "cell_type": "code",
   "execution_count": 53,
   "metadata": {},
   "outputs": [],
   "source": [
    "dmin = triangulate4world[2].min()"
   ]
  },
  {
   "cell_type": "code",
   "execution_count": 54,
   "metadata": {},
   "outputs": [],
   "source": [
    "dmax = triangulate4world[2].max()"
   ]
  },
  {
   "cell_type": "code",
   "execution_count": 55,
   "metadata": {},
   "outputs": [],
   "source": [
    "ddepth = (dmax - dmin)/19"
   ]
  },
  {
   "cell_type": "code",
   "execution_count": 56,
   "metadata": {},
   "outputs": [],
   "source": [
    "n = [0,0,1]"
   ]
  },
  {
   "cell_type": "code",
   "execution_count": 57,
   "metadata": {},
   "outputs": [
    {
     "name": "stdout",
     "output_type": "stream",
     "text": [
      "dmin:  3.3684935610743167 dmax:  5.979697809617511 ddepth:  0.13743180255490495\n"
     ]
    }
   ],
   "source": [
    "print(\"dmin: \", dmin, \"dmax: \", dmax, \"ddepth: \", ddepth)"
   ]
  },
  {
   "cell_type": "code",
   "execution_count": 58,
   "metadata": {},
   "outputs": [],
   "source": [
    "def darray(dmin, dmax,number):\n",
    "    da = []\n",
    "    ddepth = (dmax - dmin)/19\n",
    "    for i in range(number):\n",
    "        da.append(dmin+i*ddepth)\n",
    "    return da"
   ]
  },
  {
   "cell_type": "code",
   "execution_count": 59,
   "metadata": {},
   "outputs": [],
   "source": [
    "deptharray = darray(dmin,dmax,20)"
   ]
  },
  {
   "cell_type": "code",
   "execution_count": 60,
   "metadata": {},
   "outputs": [
    {
     "name": "stdout",
     "output_type": "stream",
     "text": [
      "[3.3684935610743167, 3.505925363629222, 3.643357166184127, 3.7807889687390315, 3.9182207712939365, 4.055652573848842, 4.193084376403746, 4.330516178958652, 4.467947981513556, 4.605379784068461, 4.742811586623366, 4.880243389178271, 5.017675191733176, 5.155106994288081, 5.292538796842986, 5.42997059939789, 5.567402401952796, 5.704834204507701, 5.842266007062606, 5.979697809617511]\n"
     ]
    }
   ],
   "source": [
    "print(deptharray)"
   ]
  },
  {
   "cell_type": "code",
   "execution_count": 61,
   "metadata": {},
   "outputs": [],
   "source": [
    "from numpy.linalg import inv"
   ]
  },
  {
   "cell_type": "code",
   "execution_count": 62,
   "metadata": {},
   "outputs": [],
   "source": [
    "pmatrix1 = np.concatenate((R2,t), axis=1)\n",
    "pmatrix2 = np.append(n,deptharray[0]).reshape(1,4)\n",
    "p = np.concatenate([pmatrix1,pmatrix2])"
   ]
  },
  {
   "cell_type": "code",
   "execution_count": 63,
   "metadata": {},
   "outputs": [
    {
     "name": "stdout",
     "output_type": "stream",
     "text": [
      "(3, 3)\n",
      "(3, 1)\n"
     ]
    }
   ],
   "source": [
    "I = np.eye(3, dtype=int)\n",
    "print(I.shape)\n",
    "o = np.zeros(3).reshape(3,1)\n",
    "print(o.shape)\n",
    "#pmatrix21 = np.concatenate((I,o),axis = 1)\n",
    "#p1 = np.concatenate([pmatrix21,pmatrix2])"
   ]
  },
  {
   "cell_type": "code",
   "execution_count": 64,
   "metadata": {},
   "outputs": [],
   "source": [
    "def Homo(k,R2,t,n,depth):\n",
    "    pmatrix11 = np.concatenate((R2,t), axis=1)\n",
    "    pmatrix21 = np.concatenate((I,o),axis = 1)\n",
    "    pmatrix2 = np.append(n,depth).reshape(1,4)\n",
    "    p1 = np.concatenate([pmatrix21,pmatrix2])\n",
    "    p2 = np.concatenate([pmatrix11,pmatrix2])\n",
    "    H = p1@inv(p2)\n",
    "    C = H[0:3,0:3]\n",
    "    Homop = C@inv(k)\n",
    "    Homo = k@Homop\n",
    "    return Homo"
   ]
  },
  {
   "cell_type": "code",
   "execution_count": 65,
   "metadata": {},
   "outputs": [],
   "source": [
    "Homo1 = Homo(mtx,R2,t,n,deptharray[0])"
   ]
  },
  {
   "cell_type": "code",
   "execution_count": 66,
   "metadata": {},
   "outputs": [
    {
     "name": "stdout",
     "output_type": "stream",
     "text": [
      "[[ 1.16183054e+00  6.15787649e-02 -2.85471064e+02]\n",
      " [ 3.71406350e-02  9.97855247e-01 -6.70409453e+01]\n",
      " [ 9.83784866e-05 -2.29691567e-07  8.03288324e-01]]\n"
     ]
    }
   ],
   "source": [
    "print(Homo1)"
   ]
  },
  {
   "cell_type": "code",
   "execution_count": 67,
   "metadata": {},
   "outputs": [
    {
     "name": "stdout",
     "output_type": "stream",
     "text": [
      "[3.3684935610743167, 3.505925363629222, 3.643357166184127, 3.7807889687390315, 3.9182207712939365, 4.055652573848842, 4.193084376403746, 4.330516178958652, 4.467947981513556, 4.605379784068461, 4.742811586623366, 4.880243389178271, 5.017675191733176, 5.155106994288081, 5.292538796842986, 5.42997059939789, 5.567402401952796, 5.704834204507701, 5.842266007062606, 5.979697809617511]\n"
     ]
    }
   ],
   "source": [
    "print(deptharray)"
   ]
  },
  {
   "cell_type": "code",
   "execution_count": 68,
   "metadata": {},
   "outputs": [],
   "source": [
    "imgr4 = cv2.imread('./calibresult/0.JPG')\n",
    "imgrg4 = cv2.cvtColor(imgr4,cv2.COLOR_BGR2GRAY)"
   ]
  },
  {
   "cell_type": "code",
   "execution_count": 69,
   "metadata": {},
   "outputs": [],
   "source": [
    "count = 0\n",
    "for d in deptharray:\n",
    "    Hh = Homo(mtx,R2,t,n,d)\n",
    "    imgwarpn = cv2.warpPerspective(imgrg4,Hh,(imgrg4.shape[1],imgrg4.shape[0]))\n",
    "    count+=1\n",
    "    cv2.imwrite(\"./res/part 4/warp/warp\"+str(count)+\".png\", imgwarpn)"
   ]
  },
  {
   "cell_type": "code",
   "execution_count": 70,
   "metadata": {},
   "outputs": [],
   "source": [
    "#imgwarpn = cv2.warpPerspective(imgrg4,Homo1,(imgrg4.shape[1],imgrg4.shape[0]))"
   ]
  },
  {
   "cell_type": "code",
   "execution_count": 71,
   "metadata": {},
   "outputs": [],
   "source": [
    "#cv2.imwrite(\"./res/part 4/warp.png\", imgwarpn)"
   ]
  },
  {
   "cell_type": "markdown",
   "metadata": {},
   "source": [
    "### 4.2 compute the depth picture.\n",
    "#### depth1 = wrap1 - original\n",
    "#### depth2 = wrap2 - orignial\n"
   ]
  },
  {
   "cell_type": "code",
   "execution_count": 83,
   "metadata": {},
   "outputs": [],
   "source": [
    "imgoriginal = cv2.imread('./calibresult/0.JPG')\n",
    "imgoriginalg = cv2.cvtColor(imgr4,cv2.COLOR_BGR2GRAY)"
   ]
  },
  {
   "cell_type": "code",
   "execution_count": 84,
   "metadata": {},
   "outputs": [],
   "source": [
    "imgwarpd = glob.glob('./res/part 4/warp/*.png')"
   ]
  },
  {
   "cell_type": "code",
   "execution_count": 85,
   "metadata": {},
   "outputs": [
    {
     "ename": "IndexError",
     "evalue": "list index out of range",
     "output_type": "error",
     "traceback": [
      "\u001b[0;31m---------------------------------------------------------------------------\u001b[0m",
      "\u001b[0;31mIndexError\u001b[0m                                Traceback (most recent call last)",
      "\u001b[0;32m<ipython-input-85-adebe82b5156>\u001b[0m in \u001b[0;36m<module>\u001b[0;34m\u001b[0m\n\u001b[0;32m----> 1\u001b[0;31m \u001b[0mprint\u001b[0m\u001b[0;34m(\u001b[0m\u001b[0mimgwarpd\u001b[0m\u001b[0;34m[\u001b[0m\u001b[0;36m0\u001b[0m\u001b[0;34m]\u001b[0m\u001b[0;34m)\u001b[0m\u001b[0;34m\u001b[0m\u001b[0m\n\u001b[0m",
      "\u001b[0;31mIndexError\u001b[0m: list index out of range"
     ]
    }
   ],
   "source": [
    "print(imgwarpd[0])"
   ]
  },
  {
   "cell_type": "code",
   "execution_count": 86,
   "metadata": {},
   "outputs": [],
   "source": [
    "count = 0\n",
    "imgdepth = np.zeros(imgoriginalg.shape)\n"
   ]
  },
  {
   "cell_type": "code",
   "execution_count": 87,
   "metadata": {},
   "outputs": [
    {
     "ename": "IndexError",
     "evalue": "list index out of range",
     "output_type": "error",
     "traceback": [
      "\u001b[0;31m---------------------------------------------------------------------------\u001b[0m",
      "\u001b[0;31mIndexError\u001b[0m                                Traceback (most recent call last)",
      "\u001b[0;32m<ipython-input-87-d9cc7c32a023>\u001b[0m in \u001b[0;36m<module>\u001b[0;34m\u001b[0m\n\u001b[0;32m----> 1\u001b[0;31m \u001b[0mimgw\u001b[0m \u001b[0;34m=\u001b[0m \u001b[0mcv2\u001b[0m\u001b[0;34m.\u001b[0m\u001b[0mimread\u001b[0m\u001b[0;34m(\u001b[0m\u001b[0mimgwarpd\u001b[0m\u001b[0;34m[\u001b[0m\u001b[0;36m0\u001b[0m\u001b[0;34m]\u001b[0m\u001b[0;34m)\u001b[0m\u001b[0;34m\u001b[0m\u001b[0m\n\u001b[0m",
      "\u001b[0;31mIndexError\u001b[0m: list index out of range"
     ]
    }
   ],
   "source": [
    "imgw = cv2.imread(imgwarpd[0])"
   ]
  },
  {
   "cell_type": "code",
   "execution_count": 88,
   "metadata": {},
   "outputs": [
    {
     "name": "stdout",
     "output_type": "stream",
     "text": [
      "(1936, 2592)\n"
     ]
    }
   ],
   "source": [
    "print(imgw[:,:,0].shape)"
   ]
  },
  {
   "cell_type": "code",
   "execution_count": 89,
   "metadata": {},
   "outputs": [
    {
     "name": "stdout",
     "output_type": "stream",
     "text": [
      "(1936, 2592)\n"
     ]
    }
   ],
   "source": [
    "print(imgoriginalg.shape)"
   ]
  },
  {
   "cell_type": "code",
   "execution_count": 90,
   "metadata": {},
   "outputs": [],
   "source": [
    "for fname in imgwarpd:\n",
    "    imgw = cv2.imread(fname)\n",
    "    imgdepth = cv2.absdiff(imgw[:,:,0],imgoriginalg)\n",
    "    count += 1\n",
    "    cv2.imwrite(\"./res/part 4/Depth/\"+str(count)+\".png\",imgdepth)\n",
    "    imgblock = cv2.boxFilter(imgdepth,-1,(15,15),-1)\n",
    "    cv2.imwrite(\"./res/part 4/Box/\"+str(count)+\".png\",imgblock)"
   ]
  },
  {
   "cell_type": "markdown",
   "metadata": {},
   "source": [
    "### 4.3 "
   ]
  },
  {
   "cell_type": "code",
   "execution_count": null,
   "metadata": {},
   "outputs": [],
   "source": []
  }
 ],
 "metadata": {
  "kernelspec": {
   "display_name": "Python 3",
   "language": "python",
   "name": "python3"
  },
  "language_info": {
   "codemirror_mode": {
    "name": "ipython",
    "version": 3
   },
   "file_extension": ".py",
   "mimetype": "text/x-python",
   "name": "python",
   "nbconvert_exporter": "python",
   "pygments_lexer": "ipython3",
   "version": "3.6.3"
  }
 },
 "nbformat": 4,
 "nbformat_minor": 2
}
