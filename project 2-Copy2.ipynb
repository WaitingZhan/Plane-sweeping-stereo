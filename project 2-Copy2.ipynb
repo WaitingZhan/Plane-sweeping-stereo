{
 "cells": [
  {
   "cell_type": "markdown",
   "metadata": {},
   "source": [
    "# Part 1: Camera calibration (Intrinsic parameters)"
   ]
  },
  {
   "cell_type": "code",
   "execution_count": 1,
   "metadata": {},
   "outputs": [],
   "source": [
    "import numpy as np\n",
    "import cv2\n",
    "import glob\n",
    "import os"
   ]
  },
  {
   "cell_type": "code",
   "execution_count": 2,
   "metadata": {},
   "outputs": [],
   "source": [
    " # termination criteria\n",
    "criteria = (cv2.TERM_CRITERIA_EPS + cv2.TERM_CRITERIA_MAX_ITER, 30, 0.001)\n",
    "# prepare object points, like (0,0,0), (1,0,0), (2,0,0) ....,(6,5,0)\n",
    "objp = np.zeros((6*9,3), np.float32)\n",
    "objp[:,:2] = np.mgrid[0:9,0:6].T.reshape(-1,2)"
   ]
  },
  {
   "cell_type": "code",
   "execution_count": 3,
   "metadata": {},
   "outputs": [],
   "source": [
    "# Arrays to store object points and image points from all the images.\n",
    "objpoints = [] # 3d point in real world space\n",
    "imgpoints = [] # 2d points in image plane.\n"
   ]
  },
  {
   "cell_type": "code",
   "execution_count": 4,
   "metadata": {},
   "outputs": [],
   "source": [
    "images = glob.glob('./Chessboard/*.JPG')\n"
   ]
  },
  {
   "cell_type": "code",
   "execution_count": 5,
   "metadata": {},
   "outputs": [
    {
     "name": "stdout",
     "output_type": "stream",
     "text": [
      "['./Chessboard/8.JPG', './Chessboard/9.JPG', './Chessboard/14.JPG', './Chessboard/13.JPG', './Chessboard/11.JPG', './Chessboard/10.JPG', './Chessboard/4.JPG', './Chessboard/5.JPG', './Chessboard/7.JPG', './Chessboard/6.JPG', './Chessboard/2.JPG', './Chessboard/3.JPG', './Chessboard/1.JPG']\n"
     ]
    }
   ],
   "source": [
    "print(images)"
   ]
  },
  {
   "cell_type": "code",
   "execution_count": 6,
   "metadata": {},
   "outputs": [],
   "source": [
    "for fname in images:\n",
    "    img = cv2.imread(fname)\n",
    "    gray = cv2.cvtColor(img,cv2.COLOR_BGR2GRAY)\n",
    "    # Find the chess board corners\n",
    "    ret, corners = cv2.findChessboardCorners(gray, (9,6),None)\n",
    "    # If found, add object points, image points (after refining them)\n",
    "    if ret == True:\n",
    "        objpoints.append(objp)\n",
    "        cv2.cornerSubPix(gray,corners,(11,11),(-1,-1),criteria)\n",
    "        imgpoints.append(corners)\n",
    "        # Draw and display the corners\n",
    "        cv2.drawChessboardCorners(img, (9,6), corners,ret)\n",
    "        name = fname.replace(\"./Chessboard/\",\"\")\n",
    "        cv2.imwrite(\"./res/part 1/\"+str(name),img)\n",
    "        #print(\"./res/part 1/\"+str(name)+\".png\")\n",
    "        cv2.imshow('img',img)\n",
    "        cv2.waitKey(500)\n",
    "cv2.destroyAllWindows()"
   ]
  },
  {
   "cell_type": "code",
   "execution_count": 7,
   "metadata": {},
   "outputs": [],
   "source": [
    " ret, mtx, dist, rvecs, tvecs = cv2.calibrateCamera(objpoints, imgpoints, gray.shape[::-1],None,None)"
   ]
  },
  {
   "cell_type": "code",
   "execution_count": 8,
   "metadata": {},
   "outputs": [
    {
     "name": "stdout",
     "output_type": "stream",
     "text": [
      "0.5589320351689583\n"
     ]
    }
   ],
   "source": [
    "print(ret)\n"
   ]
  },
  {
   "cell_type": "code",
   "execution_count": 9,
   "metadata": {},
   "outputs": [
    {
     "name": "stdout",
     "output_type": "stream",
     "text": [
      "[[595.15497567   0.         276.05917364]\n",
      " [  0.         612.59466701 381.21361238]\n",
      " [  0.           0.           1.        ]]\n"
     ]
    }
   ],
   "source": [
    "print(mtx)"
   ]
  },
  {
   "cell_type": "code",
   "execution_count": 10,
   "metadata": {},
   "outputs": [],
   "source": [
    "principalPoint = (mtx[0][2],mtx[1][2])"
   ]
  },
  {
   "cell_type": "code",
   "execution_count": 11,
   "metadata": {},
   "outputs": [],
   "source": [
    "focal = (mtx[0][0]+mtx[1][1])/2"
   ]
  },
  {
   "cell_type": "code",
   "execution_count": 12,
   "metadata": {},
   "outputs": [
    {
     "name": "stdout",
     "output_type": "stream",
     "text": [
      "(276.0591736428202, 381.2136123810213)\n"
     ]
    }
   ],
   "source": [
    "print(principalPoint)"
   ]
  },
  {
   "cell_type": "markdown",
   "metadata": {},
   "source": [
    "# Part 2: Take the pictures"
   ]
  },
  {
   "cell_type": "code",
   "execution_count": null,
   "metadata": {},
   "outputs": [],
   "source": []
  },
  {
   "cell_type": "markdown",
   "metadata": {},
   "source": [
    "# Part 3: Compute the relative camera pose"
   ]
  },
  {
   "cell_type": "code",
   "execution_count": 13,
   "metadata": {},
   "outputs": [],
   "source": [
    "from matplotlib import pyplot as plt\n",
    "\n",
    "img1 = cv2.imread('./Pair image/myleft.JPG',0)  #queryimage # left image\n",
    "img2 = cv2.imread('./Pair image/myright.JPG',0) #trainimage # right image\n"
   ]
  },
  {
   "cell_type": "code",
   "execution_count": 14,
   "metadata": {},
   "outputs": [],
   "source": [
    "cv2.imshow('img1',img1)\n",
    "#cv2.waitKey(500)\n",
    "cv2.destroyAllWindows()\n"
   ]
  },
  {
   "cell_type": "code",
   "execution_count": 15,
   "metadata": {},
   "outputs": [
    {
     "data": {
      "text/plain": [
       "'3.3.0'"
      ]
     },
     "execution_count": 15,
     "metadata": {},
     "output_type": "execute_result"
    }
   ],
   "source": [
    "import cv2\n",
    "cv2.__version__"
   ]
  },
  {
   "cell_type": "code",
   "execution_count": null,
   "metadata": {},
   "outputs": [],
   "source": []
  },
  {
   "cell_type": "code",
   "execution_count": 16,
   "metadata": {},
   "outputs": [],
   "source": [
    "sift = cv2.xfeatures2d.SIFT_create()\n",
    "\n",
    "# find the keypoints and descriptors with SIFT\n",
    "kp1, des1 = sift.detectAndCompute(img1,None)\n",
    "kp2, des2 = sift.detectAndCompute(img2,None)\n",
    "\n",
    "# FLANN parameters\n",
    "FLANN_INDEX_KDTREE = 0\n",
    "index_params = dict(algorithm = FLANN_INDEX_KDTREE, trees = 5)\n",
    "search_params = dict(checks=50)\n",
    "\n",
    "flann = cv2.FlannBasedMatcher(index_params,search_params)\n",
    "matches = flann.knnMatch(des1,des2,k=2)\n",
    "\n",
    "good = []\n",
    "pts1 = []\n",
    "pts2 = []\n",
    "\n",
    "# ratio test as per Lowe's paper\n",
    "for i,(m,n) in enumerate(matches):\n",
    "    if m.distance < 0.8*n.distance:\n",
    "        good.append(m)\n",
    "        pts2.append(kp2[m.trainIdx].pt)\n",
    "        pts1.append(kp1[m.queryIdx].pt)"
   ]
  },
  {
   "cell_type": "markdown",
   "metadata": {},
   "source": [
    "Got the list of best matches from both images"
   ]
  },
  {
   "cell_type": "code",
   "execution_count": 17,
   "metadata": {},
   "outputs": [],
   "source": [
    "pts1 = np.int32(pts1)\n",
    "pts2 = np.int32(pts2)\n",
    "F, mask = cv2.findFundamentalMat(pts1,pts2,cv2.FM_LMEDS)\n",
    "\n",
    "# We select only inlier points\n",
    "pts1 = pts1[mask.ravel()==1]\n",
    "pts2 = pts2[mask.ravel()==1]"
   ]
  },
  {
   "cell_type": "code",
   "execution_count": 18,
   "metadata": {},
   "outputs": [
    {
     "name": "stdout",
     "output_type": "stream",
     "text": [
      "[[ 1.80196406e-09 -2.70656864e-06  2.45378162e-03]\n",
      " [ 2.70319608e-06  3.64073018e-08 -4.36043103e-03]\n",
      " [-2.63355347e-03  3.54303323e-03  1.00000000e+00]]\n"
     ]
    }
   ],
   "source": [
    "print(F)"
   ]
  },
  {
   "cell_type": "code",
   "execution_count": null,
   "metadata": {},
   "outputs": [],
   "source": []
  },
  {
   "cell_type": "markdown",
   "metadata": {},
   "source": [
    "Next we find the epilines. Epilines corresponding to the points in first image is drawn on second image. So mentioning of correct images are important here. We get an array of lines. So we define a new function to draw these lines on the images."
   ]
  },
  {
   "cell_type": "code",
   "execution_count": 19,
   "metadata": {},
   "outputs": [],
   "source": [
    "def drawlines(img1,img2,lines,pts1,pts2):\n",
    "    ''' img1 - image on which we draw the epilines for the points in img2\n",
    "        lines - corresponding epilines '''\n",
    "    r,c = img1.shape\n",
    "    img1 = cv2.cvtColor(img1,cv2.COLOR_GRAY2BGR)\n",
    "    img2 = cv2.cvtColor(img2,cv2.COLOR_GRAY2BGR)\n",
    "    for r,pt1,pt2 in zip(lines,pts1,pts2):\n",
    "        color = tuple(np.random.randint(0,255,3).tolist())\n",
    "        x0,y0 = map(int, [0, -r[2]/r[1] ])\n",
    "        x1,y1 = map(int, [c, -(r[2]+r[0]*c)/r[1] ])\n",
    "        img1 = cv2.line(img1, (x0,y0), (x1,y1), color,1)\n",
    "        img1 = cv2.circle(img1,tuple(pt1),5,color,-1)\n",
    "        img2 = cv2.circle(img2,tuple(pt2),5,color,-1)\n",
    "    return img1,img2"
   ]
  },
  {
   "cell_type": "markdown",
   "metadata": {},
   "source": [
    "Now we find the epilines in both the images and draw them."
   ]
  },
  {
   "cell_type": "code",
   "execution_count": 20,
   "metadata": {},
   "outputs": [
    {
     "data": {
      "image/png": "[encoded data removed]",
      "text/plain": [
       "<Figure size 432x288 with 2 Axes>"
      ]
     },
     "metadata": {
      "needs_background": "light"
     },
     "output_type": "display_data"
    }
   ],
   "source": [
    "# Find epilines corresponding to points in right image (second image) and\n",
    "# drawing its lines on left image\n",
    "lines1 = cv2.computeCorrespondEpilines(pts2.reshape(-1,1,2), 2,F)\n",
    "lines1 = lines1.reshape(-1,3)\n",
    "img5,img6 = drawlines(img1,img2,lines1,pts1,pts2)\n",
    "\n",
    "# Find epilines corresponding to points in left image (first image) and\n",
    "# drawing its lines on right image\n",
    "lines2 = cv2.computeCorrespondEpilines(pts1.reshape(-1,1,2), 1,F)\n",
    "lines2 = lines2.reshape(-1,3)\n",
    "img3,img4 = drawlines(img2,img1,lines2,pts2,pts1)\n",
    "\n",
    "plt.subplot(121),plt.imshow(img5)\n",
    "plt.subplot(122),plt.imshow(img3)\n",
    "cv2.imwrite(\"./res/part 2/epilineleft.png\", img5)\n",
    "cv2.imwrite(\"./res/part 2/epilineright.png\", img3)\n",
    "plt.show()\n",
    "cv2.destroyAllWindows()"
   ]
  },
  {
   "cell_type": "markdown",
   "metadata": {},
   "source": [
    "Compute the essential matrix E\n",
    "https://docs.opencv.org/3.1.0/d9/d0c/group__calib3d.html#ga13f7e34de8fa516a686a56af1196247f"
   ]
  },
  {
   "cell_type": "code",
   "execution_count": 21,
   "metadata": {},
   "outputs": [],
   "source": [
    "E, mask = cv2.findEssentialMat(pts1, pts2, focal, principalPoint, method=cv2.RANSAC, prob=0.999, threshold=3.0)"
   ]
  },
  {
   "cell_type": "code",
   "execution_count": 22,
   "metadata": {},
   "outputs": [
    {
     "name": "stdout",
     "output_type": "stream",
     "text": [
      "[[-0.00496737 -0.0683616  -0.11553038]\n",
      " [ 0.05026043 -0.00129722 -0.69578636]\n",
      " [ 0.13513878  0.69067893 -0.00290183]]\n"
     ]
    }
   ],
   "source": [
    "print(E)"
   ]
  },
  {
   "cell_type": "code",
   "execution_count": 23,
   "metadata": {},
   "outputs": [],
   "source": [
    "R1,R2,t = cv2.decomposeEssentialMat(E)"
   ]
  },
  {
   "cell_type": "markdown",
   "metadata": {},
   "source": [
    "### decompose the essential matrix, we got two rotaion matrixs, R1(3*3) and R2(3*3), and one translation vector (3*1).\n",
    "### We need the  projection matrix of the first camera and projection matrix of the second camera to calculate the triangulatePoints\n",
    "### projMatr1 – 3x4 projection matrix of the first camera.\n",
    "### projMatr2 – 3x4 projection matrix of the second camera."
   ]
  },
  {
   "cell_type": "code",
   "execution_count": 24,
   "metadata": {},
   "outputs": [
    {
     "name": "stdout",
     "output_type": "stream",
     "text": [
      "[[ 0.92301959 -0.34721238  0.16576607]\n",
      " [-0.34830072 -0.93709042 -0.02341255]\n",
      " [ 0.16346693 -0.0361262  -0.98588714]]\n"
     ]
    }
   ],
   "source": [
    "print(R1)"
   ]
  },
  {
   "cell_type": "code",
   "execution_count": 25,
   "metadata": {},
   "outputs": [
    {
     "name": "stdout",
     "output_type": "stream",
     "text": [
      "[[ 9.99255379e-01 -2.83151139e-02 -2.62095655e-02]\n",
      " [ 2.83296338e-02  9.99598619e-01  1.82762960e-04]\n",
      " [ 2.61938705e-02 -9.25134261e-04  9.99656454e-01]]\n"
     ]
    }
   ],
   "source": [
    "print(R2)"
   ]
  },
  {
   "cell_type": "code",
   "execution_count": 26,
   "metadata": {},
   "outputs": [
    {
     "name": "stdout",
     "output_type": "stream",
     "text": [
      "[[ 0.98178893]\n",
      " [-0.16342307]\n",
      " [ 0.09686797]]\n"
     ]
    }
   ],
   "source": [
    "print(t)"
   ]
  },
  {
   "cell_type": "markdown",
   "metadata": {},
   "source": [
    "### There are 4 possible combination for the projection matrix.\n",
    "#### Case 1:  projMatr1 = K [ I 0]   projMatr2 = K[R1 t]\n",
    "#### Case 2:  projMatr1 = K[ I 0]   projMatr2 = K[R1  -t]\n",
    "#### Case 3:  projMatr1 = K[ I 0]   projMatr2 = K[R2 t]\n",
    "#### Case 4:  projMatr1 = K[ I 0]   projMatr2 = K[R2 -t]\n"
   ]
  },
  {
   "cell_type": "code",
   "execution_count": 27,
   "metadata": {},
   "outputs": [],
   "source": [
    "points1 = np.array(pts1).astype(float).T \n",
    "points2 = np.array(pts2).astype(float).T"
   ]
  },
  {
   "cell_type": "code",
   "execution_count": 28,
   "metadata": {},
   "outputs": [],
   "source": [
    "# make a projection matrix for camera 1\n",
    "projMatr1 = mtx@np.array([[1,0,0,0],[0,1,0,0],[0,0,1,0]])"
   ]
  },
  {
   "cell_type": "code",
   "execution_count": 29,
   "metadata": {},
   "outputs": [],
   "source": [
    "# case 1\n",
    "projMatr21 = mtx@np.concatenate((R1,t),1)\n",
    "# case 2\n",
    "projMatr22 = mtx@np.concatenate((R1,-t),1)\n",
    "# case 3\n",
    "projMatr23 = mtx@np.concatenate((R2,t),1)\n",
    "# case 4\n",
    "projMatr24 = mtx@np.concatenate((R2,-t),1)"
   ]
  },
  {
   "cell_type": "code",
   "execution_count": 30,
   "metadata": {},
   "outputs": [],
   "source": [
    "triangulate1 = cv2.triangulatePoints(projMatr1, projMatr21,points1,points2)\n",
    "triangulate2 = cv2.triangulatePoints(projMatr1, projMatr22,points1,points2)\n",
    "triangulate3 = cv2.triangulatePoints(projMatr1, projMatr23,points1,points2)\n",
    "triangulate4 = cv2.triangulatePoints(projMatr1, projMatr24,points1,points2)"
   ]
  },
  {
   "cell_type": "code",
   "execution_count": 31,
   "metadata": {},
   "outputs": [
    {
     "name": "stdout",
     "output_type": "stream",
     "text": [
      "[[-0.45075538  0.11406202 -0.19068427  0.8645513 ]\n",
      " [-0.45027407  0.11749926 -0.19752966  0.86280311]\n",
      " [-0.45135237  0.1111375  -0.19286979  0.86413583]\n",
      " ...\n",
      " [-0.48512014 -0.16649978 -0.34887997  0.784359  ]\n",
      " [ 0.42435101  0.51862634  0.5507869  -0.49758087]\n",
      " [-0.44765947 -0.35832383 -0.60102246  0.55675581]]\n"
     ]
    }
   ],
   "source": [
    "print(triangulate1.T)"
   ]
  },
  {
   "cell_type": "code",
   "execution_count": 32,
   "metadata": {},
   "outputs": [
    {
     "name": "stdout",
     "output_type": "stream",
     "text": [
      "-0.9867971479850226\n"
     ]
    }
   ],
   "source": [
    "print(triangulate1[2].min())"
   ]
  },
  {
   "cell_type": "markdown",
   "metadata": {},
   "source": [
    "#### case 1 got negtive distance, get rid of it."
   ]
  },
  {
   "cell_type": "code",
   "execution_count": 33,
   "metadata": {},
   "outputs": [
    {
     "name": "stdout",
     "output_type": "stream",
     "text": [
      "[[ 0.45075538 -0.11406202  0.19068427  0.8645513 ]\n",
      " [ 0.45027407 -0.11749926  0.19752966  0.86280311]\n",
      " [ 0.45135237 -0.1111375   0.19286979  0.86413583]\n",
      " ...\n",
      " [ 0.48512014  0.16649978  0.34887997  0.784359  ]\n",
      " [ 0.42435101  0.51862634  0.5507869   0.49758087]\n",
      " [-0.44765947 -0.35832383 -0.60102246 -0.55675581]]\n"
     ]
    }
   ],
   "source": [
    "print(triangulate2.T)"
   ]
  },
  {
   "cell_type": "code",
   "execution_count": 34,
   "metadata": {},
   "outputs": [
    {
     "name": "stdout",
     "output_type": "stream",
     "text": [
      "-0.9867971479850226\n"
     ]
    }
   ],
   "source": [
    "print(triangulate2[2].min())"
   ]
  },
  {
   "cell_type": "markdown",
   "metadata": {},
   "source": [
    "#### case 2 got negtive distance, get rid of it."
   ]
  },
  {
   "cell_type": "code",
   "execution_count": 35,
   "metadata": {},
   "outputs": [
    {
     "name": "stdout",
     "output_type": "stream",
     "text": [
      "[[-0.8832726   0.22350772 -0.37363662  0.17398129]\n",
      " [-0.8763312   0.22867792 -0.38442114  0.17880276]\n",
      " [-0.88299252  0.2174203  -0.37730114  0.1752041 ]\n",
      " ...\n",
      " [ 0.75976711  0.26076219  0.54639509 -0.23708526]\n",
      " [ 0.47507208  0.58061771  0.61662189 -0.23867769]\n",
      " [-0.51285535 -0.41051076 -0.68855526  0.30716762]]\n"
     ]
    }
   ],
   "source": [
    "print(triangulate3.T)"
   ]
  },
  {
   "cell_type": "code",
   "execution_count": 36,
   "metadata": {},
   "outputs": [
    {
     "name": "stdout",
     "output_type": "stream",
     "text": [
      "-0.8879126952850829\n"
     ]
    }
   ],
   "source": [
    "print(triangulate3[2].min())"
   ]
  },
  {
   "cell_type": "markdown",
   "metadata": {},
   "source": [
    "#### case 3 got negtive distance, so I get rit of this case."
   ]
  },
  {
   "cell_type": "code",
   "execution_count": 37,
   "metadata": {},
   "outputs": [
    {
     "name": "stdout",
     "output_type": "stream",
     "text": [
      "[[-0.8832726   0.22350772 -0.37363662 -0.17398129]\n",
      " [-0.8763312   0.22867792 -0.38442114 -0.17880276]\n",
      " [-0.88299252  0.2174203  -0.37730114 -0.1752041 ]\n",
      " ...\n",
      " [ 0.75976711  0.26076219  0.54639509  0.23708526]\n",
      " [ 0.47507208  0.58061771  0.61662189  0.23867769]\n",
      " [-0.51285535 -0.41051076 -0.68855526 -0.30716762]]\n"
     ]
    }
   ],
   "source": [
    "print(triangulate4.T)"
   ]
  },
  {
   "cell_type": "code",
   "execution_count": 38,
   "metadata": {},
   "outputs": [
    {
     "name": "stdout",
     "output_type": "stream",
     "text": [
      "-0.8879126952850829\n"
     ]
    }
   ],
   "source": [
    "print(triangulate4[2].min())"
   ]
  },
  {
   "cell_type": "markdown",
   "metadata": {},
   "source": [
    "#### case 4 has the positive distance , so the (R2,-t) is the right R and t"
   ]
  },
  {
   "cell_type": "code",
   "execution_count": 39,
   "metadata": {},
   "outputs": [
    {
     "data": {
      "text/plain": [
       "array([[-0.8832726 ,  0.22350772, -0.37363662, -0.17398129],\n",
       "       [-0.8763312 ,  0.22867792, -0.38442114, -0.17880276],\n",
       "       [-0.88299252,  0.2174203 , -0.37730114, -0.1752041 ],\n",
       "       ...,\n",
       "       [ 0.75976711,  0.26076219,  0.54639509,  0.23708526],\n",
       "       [ 0.47507208,  0.58061771,  0.61662189,  0.23867769],\n",
       "       [-0.51285535, -0.41051076, -0.68855526, -0.30716762]])"
      ]
     },
     "execution_count": 39,
     "metadata": {},
     "output_type": "execute_result"
    }
   ],
   "source": [
    "triangulate4.T"
   ]
  },
  {
   "cell_type": "code",
   "execution_count": 40,
   "metadata": {},
   "outputs": [],
   "source": [
    "triangulate4world = np.true_divide(triangulate4.T[:,:3], triangulate4.T[:,[-1]]).T"
   ]
  },
  {
   "cell_type": "code",
   "execution_count": 41,
   "metadata": {},
   "outputs": [
    {
     "name": "stdout",
     "output_type": "stream",
     "text": [
      "[[ 5.07682515 -1.28466525  2.14756782]\n",
      " [ 4.90110558 -1.27893956  2.14997318]\n",
      " [ 5.03979378 -1.24095443  2.15349497]\n",
      " ...\n",
      " [ 3.20461553  1.09986673  2.30463543]\n",
      " [ 1.9904335   2.43264336  2.58349189]\n",
      " [ 1.66962698  1.33643889  2.24162708]]\n"
     ]
    }
   ],
   "source": [
    "print(triangulate4world.T)"
   ]
  },
  {
   "cell_type": "code",
   "execution_count": 42,
   "metadata": {},
   "outputs": [
    {
     "name": "stdout",
     "output_type": "stream",
     "text": [
      "(3, 1316)\n"
     ]
    }
   ],
   "source": [
    "print(triangulate4world.shape)"
   ]
  },
  {
   "cell_type": "code",
   "execution_count": 43,
   "metadata": {},
   "outputs": [],
   "source": [
    "pixelh = mtx@triangulate4world"
   ]
  },
  {
   "cell_type": "code",
   "execution_count": 44,
   "metadata": {},
   "outputs": [
    {
     "name": "stdout",
     "output_type": "stream",
     "text": [
      "[[3.61435355e+03 3.17030055e+01 2.14756782e+00]\n",
      " [3.51043719e+03 3.61274907e+01 2.14997318e+00]\n",
      " [3.59395039e+03 6.07395308e+01 2.15349497e+00]\n",
      " ...\n",
      " [2.54345863e+03 1.55233089e+03 2.30463543e+00]\n",
      " [1.89781304e+03 2.47508663e+03 2.58349189e+00]\n",
      " [1.61250852e+03 1.67323409e+03 2.24162708e+00]]\n"
     ]
    }
   ],
   "source": [
    "print(pixelh.T)"
   ]
  },
  {
   "cell_type": "code",
   "execution_count": 45,
   "metadata": {},
   "outputs": [],
   "source": [
    "pixel = np.true_divide(pixelh.T[:,:2],pixelh.T[:,[-1]])"
   ]
  },
  {
   "cell_type": "code",
   "execution_count": 46,
   "metadata": {},
   "outputs": [
    {
     "name": "stdout",
     "output_type": "stream",
     "text": [
      "[[1681.    5.]\n",
      " [1631.    8.]\n",
      " [1667.   19.]\n",
      " ...\n",
      " [1104.  675.]\n",
      " [ 734.  956.]\n",
      " [ 720.  749.]]\n"
     ]
    }
   ],
   "source": [
    "print(points1.T)"
   ]
  },
  {
   "cell_type": "code",
   "execution_count": 47,
   "metadata": {},
   "outputs": [
    {
     "name": "stdout",
     "output_type": "stream",
     "text": [
      "[[1682.99856251   14.76228375]\n",
      " [1632.78185294   16.80369367]\n",
      " [1668.89193867   28.20509534]\n",
      " ...\n",
      " [1103.6273238   673.56896168]\n",
      " [ 734.59221764  958.03924569]\n",
      " [ 719.34736088  746.43731388]]\n"
     ]
    }
   ],
   "source": [
    "print(pixel)"
   ]
  },
  {
   "cell_type": "code",
   "execution_count": 48,
   "metadata": {},
   "outputs": [
    {
     "name": "stdout",
     "output_type": "stream",
     "text": [
      "(1316, 2)\n"
     ]
    }
   ],
   "source": [
    "print(pixel.shape)"
   ]
  },
  {
   "cell_type": "code",
   "execution_count": 49,
   "metadata": {},
   "outputs": [],
   "source": [
    "imgleft = cv2.imread('./Pair image/myleft.JPG')  # left image\n",
    "imgright = cv2.imread('./Pair image/myright.JPG') # right image\n",
    "\n"
   ]
  },
  {
   "cell_type": "code",
   "execution_count": 50,
   "metadata": {},
   "outputs": [],
   "source": [
    "cv2.imshow('left',imgleft)"
   ]
  },
  {
   "cell_type": "code",
   "execution_count": 51,
   "metadata": {},
   "outputs": [
    {
     "data": {
      "text/plain": [
       "True"
      ]
     },
     "execution_count": 51,
     "metadata": {},
     "output_type": "execute_result"
    }
   ],
   "source": [
    "for point in pixel.astype(int):\n",
    "    #print(tuple(point))\n",
    "    \n",
    "    imgleft = cv2.circle(imgleft,tuple(point),10,(0, 0, 200),-1)\n",
    "for point in points1.T.astype(int):\n",
    "    #print(tuple(point))\n",
    "    imgleft = cv2.circle(imgleft,tuple(point),5,(200, 0, 0),-1)\n",
    "cv2.imwrite(\"./res/part 3/reporject.png\", imgleft)\n",
    "#plt.imshow(imgleft)\n",
    "#cv2.imshow('left',imgleft )\n",
    "#cv2.waitKey(0)\n",
    "#cv2.destroyAllWindows()\n"
   ]
  },
  {
   "cell_type": "markdown",
   "metadata": {},
   "source": [
    "# Part 4: Plane-sweeping stereo"
   ]
  },
  {
   "cell_type": "markdown",
   "metadata": {},
   "source": [
    "### 4.1 compute 20 depth to generate a array of 20 depth"
   ]
  },
  {
   "cell_type": "code",
   "execution_count": 52,
   "metadata": {},
   "outputs": [
    {
     "name": "stdout",
     "output_type": "stream",
     "text": [
      "[2.14756782 2.14997318 2.15349497 ... 2.30463543 2.58349189 2.24162708]\n"
     ]
    }
   ],
   "source": [
    "print(triangulate4world[2])"
   ]
  },
  {
   "cell_type": "code",
   "execution_count": 53,
   "metadata": {},
   "outputs": [],
   "source": [
    "dmin = triangulate4world[2].min()"
   ]
  },
  {
   "cell_type": "code",
   "execution_count": 54,
   "metadata": {},
   "outputs": [],
   "source": [
    "dmax = triangulate4world[2].max()"
   ]
  },
  {
   "cell_type": "code",
   "execution_count": 55,
   "metadata": {},
   "outputs": [],
   "source": [
    "ddepth = (dmax - dmin)/19"
   ]
  },
  {
   "cell_type": "code",
   "execution_count": 56,
   "metadata": {},
   "outputs": [],
   "source": [
    "n = [0,0,1]"
   ]
  },
  {
   "cell_type": "code",
   "execution_count": 57,
   "metadata": {},
   "outputs": [
    {
     "name": "stdout",
     "output_type": "stream",
     "text": [
      "dmin:  1.3855950108815953 dmax:  5.472388356362586 ddepth:  0.21509438660426267\n"
     ]
    }
   ],
   "source": [
    "print(\"dmin: \", dmin, \"dmax: \", dmax, \"ddepth: \", ddepth)"
   ]
  },
  {
   "cell_type": "code",
   "execution_count": 58,
   "metadata": {},
   "outputs": [],
   "source": [
    "def darray(dmin, dmax,number):\n",
    "    da = []\n",
    "    ddepth = (dmax - dmin)/19\n",
    "    for i in range(number):\n",
    "        da.append(dmin+i*ddepth)\n",
    "    return da"
   ]
  },
  {
   "cell_type": "code",
   "execution_count": 59,
   "metadata": {},
   "outputs": [],
   "source": [
    "deptharray = darray(0,dmax,20)"
   ]
  },
  {
   "cell_type": "code",
   "execution_count": 60,
   "metadata": {},
   "outputs": [],
   "source": [
    "from numpy.linalg import inv"
   ]
  },
  {
   "cell_type": "code",
   "execution_count": 61,
   "metadata": {},
   "outputs": [
    {
     "ename": "NameError",
     "evalue": "name 'depth' is not defined",
     "output_type": "error",
     "traceback": [
      "\u001b[0;31m---------------------------------------------------------------------------\u001b[0m",
      "\u001b[0;31mNameError\u001b[0m                                 Traceback (most recent call last)",
      "\u001b[0;32m<ipython-input-61-54be20aacd6c>\u001b[0m in \u001b[0;36m<module>\u001b[0;34m\u001b[0m\n\u001b[1;32m      1\u001b[0m \u001b[0mpmatrix1\u001b[0m \u001b[0;34m=\u001b[0m \u001b[0mnp\u001b[0m\u001b[0;34m.\u001b[0m\u001b[0mconcatenate\u001b[0m\u001b[0;34m(\u001b[0m\u001b[0;34m(\u001b[0m\u001b[0mR2\u001b[0m\u001b[0;34m,\u001b[0m\u001b[0;34m-\u001b[0m\u001b[0mt\u001b[0m\u001b[0;34m)\u001b[0m\u001b[0;34m,\u001b[0m \u001b[0maxis\u001b[0m\u001b[0;34m=\u001b[0m\u001b[0;36m1\u001b[0m\u001b[0;34m)\u001b[0m\u001b[0;34m\u001b[0m\u001b[0m\n\u001b[0;32m----> 2\u001b[0;31m \u001b[0mpmatrix2\u001b[0m \u001b[0;34m=\u001b[0m \u001b[0mnp\u001b[0m\u001b[0;34m.\u001b[0m\u001b[0mappend\u001b[0m\u001b[0;34m(\u001b[0m\u001b[0mn\u001b[0m\u001b[0;34m,\u001b[0m\u001b[0mdepth\u001b[0m\u001b[0;34m)\u001b[0m\u001b[0;34m.\u001b[0m\u001b[0mreshape\u001b[0m\u001b[0;34m(\u001b[0m\u001b[0;36m1\u001b[0m\u001b[0;34m,\u001b[0m\u001b[0;36m4\u001b[0m\u001b[0;34m)\u001b[0m\u001b[0;34m\u001b[0m\u001b[0m\n\u001b[0m\u001b[1;32m      3\u001b[0m \u001b[0mpmatrix\u001b[0m \u001b[0;34m=\u001b[0m \u001b[0mnp\u001b[0m\u001b[0;34m.\u001b[0m\u001b[0mconcatenate\u001b[0m\u001b[0;34m(\u001b[0m\u001b[0;34m[\u001b[0m\u001b[0mpmatrix1\u001b[0m\u001b[0;34m,\u001b[0m\u001b[0mpmatrix2\u001b[0m\u001b[0;34m]\u001b[0m\u001b[0;34m)\u001b[0m\u001b[0;34m\u001b[0m\u001b[0m\n",
      "\u001b[0;31mNameError\u001b[0m: name 'depth' is not defined"
     ]
    }
   ],
   "source": [
    "pmatrix1 = np.concatenate((R2,-t), axis=1)\n",
    "pmatrix2 = np.append(n,depth).reshape(1,4)\n",
    "pmatrix = np.concatenate([pmatrix1,pmatrix2])"
   ]
  },
  {
   "cell_type": "code",
   "execution_count": 62,
   "metadata": {},
   "outputs": [],
   "source": [
    "def Homo(k,R2,t,n,depth):\n",
    "    pmatrix1 = np.concatenate((R2,-t), axis=1)\n",
    "    pmatrix2 = np.append(n,depth).reshape(1,4)\n",
    "    p = np.concatenate([pmatrix1,pmatrix2])\n",
    "    H = p@inv(p)\n",
    "    H = H[0:3,0:3]\n",
    "    Homo = k@H@inv(k)\n",
    "    return Homo"
   ]
  },
  {
   "cell_type": "code",
   "execution_count": 63,
   "metadata": {},
   "outputs": [],
   "source": [
    "Homo1 = Homo(mtx,R2,t,n,deptharray[18])"
   ]
  },
  {
   "cell_type": "code",
   "execution_count": 64,
   "metadata": {},
   "outputs": [
    {
     "name": "stdout",
     "output_type": "stream",
     "text": [
      "[[ 1.00000000e+00 -2.85761059e-18  5.68434189e-14]\n",
      " [-3.21698847e-18  1.00000000e+00  0.00000000e+00]\n",
      " [-1.16589698e-20 -1.32738934e-22  1.00000000e+00]]\n"
     ]
    }
   ],
   "source": [
    "print(Homo1)"
   ]
  },
  {
   "cell_type": "code",
   "execution_count": 65,
   "metadata": {},
   "outputs": [
    {
     "name": "stdout",
     "output_type": "stream",
     "text": [
      "0.8640613194256715\n"
     ]
    }
   ],
   "source": [
    "print(deptharray[3])"
   ]
  },
  {
   "cell_type": "code",
   "execution_count": 66,
   "metadata": {},
   "outputs": [],
   "source": [
    "for d in deptharray:\n",
    "    Hh = Homo(mtx,R2,t,n,d)\n",
    "    "
   ]
  },
  {
   "cell_type": "code",
   "execution_count": 68,
   "metadata": {},
   "outputs": [],
   "source": [
    "imgr4 = cv2.imread('./Pair image/myright.JPG')\n",
    "imgrg4 = cv2.cvtColor(imgr4,cv2.COLOR_BGR2GRAY)"
   ]
  },
  {
   "cell_type": "code",
   "execution_count": 69,
   "metadata": {},
   "outputs": [],
   "source": [
    "imgwarpn = cv2.warpPerspective(imgrg4,Homo1,(imgrg4.shape[1],imgrg4.shape[0]))"
   ]
  },
  {
   "cell_type": "code",
   "execution_count": 70,
   "metadata": {},
   "outputs": [
    {
     "data": {
      "text/plain": [
       "True"
      ]
     },
     "execution_count": 70,
     "metadata": {},
     "output_type": "execute_result"
    }
   ],
   "source": [
    "cv2.imwrite(\"./res/part 4/warp.png\", imgwarpn)"
   ]
  },
  {
   "cell_type": "code",
   "execution_count": null,
   "metadata": {},
   "outputs": [],
   "source": []
  },
  {
   "cell_type": "code",
   "execution_count": null,
   "metadata": {},
   "outputs": [],
   "source": []
  },
  {
   "cell_type": "code",
   "execution_count": null,
   "metadata": {},
   "outputs": [],
   "source": []
  },
  {
   "cell_type": "code",
   "execution_count": null,
   "metadata": {},
   "outputs": [],
   "source": []
  }
 ],
 "metadata": {
  "kernelspec": {
   "display_name": "Python 3",
   "language": "python",
   "name": "python3"
  },
  "language_info": {
   "codemirror_mode": {
    "name": "ipython",
    "version": 3
   },
   "file_extension": ".py",
   "mimetype": "text/x-python",
   "name": "python",
   "nbconvert_exporter": "python",
   "pygments_lexer": "ipython3",
   "version": "3.6.3"
  }
 },
 "nbformat": 4,
 "nbformat_minor": 2
}
