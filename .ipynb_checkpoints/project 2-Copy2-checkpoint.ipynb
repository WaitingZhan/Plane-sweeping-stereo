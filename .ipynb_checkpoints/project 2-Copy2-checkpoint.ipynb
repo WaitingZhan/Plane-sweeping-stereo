{
 "cells": [
  {
   "cell_type": "markdown",
   "metadata": {},
   "source": [
    "# Part 1: Camera calibration (Intrinsic parameters)"
   ]
  },
  {
   "cell_type": "code",
   "execution_count": 1,
   "metadata": {},
   "outputs": [],
   "source": [
    "import numpy as np\n",
    "import cv2\n",
    "import glob"
   ]
  },
  {
   "cell_type": "code",
   "execution_count": 2,
   "metadata": {},
   "outputs": [],
   "source": [
    " # termination criteria\n",
    "criteria = (cv2.TERM_CRITERIA_EPS + cv2.TERM_CRITERIA_MAX_ITER, 30, 0.001)\n",
    "# prepare object points, like (0,0,0), (1,0,0), (2,0,0) ....,(6,5,0)\n",
    "objp = np.zeros((6*9,3), np.float32)\n",
    "objp[:,:2] = np.mgrid[0:9,0:6].T.reshape(-1,2)"
   ]
  },
  {
   "cell_type": "code",
   "execution_count": 3,
   "metadata": {},
   "outputs": [],
   "source": [
    "# Arrays to store object points and image points from all the images.\n",
    "objpoints = [] # 3d point in real world space\n",
    "imgpoints = [] # 2d points in image plane.\n"
   ]
  },
  {
   "cell_type": "code",
   "execution_count": 4,
   "metadata": {},
   "outputs": [],
   "source": [
    "images = glob.glob('./Chessboard/*.JPG')\n"
   ]
  },
  {
   "cell_type": "code",
   "execution_count": 5,
   "metadata": {},
   "outputs": [
    {
     "name": "stdout",
     "output_type": "stream",
     "text": [
      "['./Chessboard/8.JPG', './Chessboard/9.JPG', './Chessboard/14.JPG', './Chessboard/13.JPG', './Chessboard/11.JPG', './Chessboard/10.JPG', './Chessboard/4.JPG', './Chessboard/5.JPG', './Chessboard/7.JPG', './Chessboard/6.JPG', './Chessboard/2.JPG', './Chessboard/3.JPG', './Chessboard/1.JPG']\n"
     ]
    }
   ],
   "source": [
    "print(images)"
   ]
  },
  {
   "cell_type": "code",
   "execution_count": 6,
   "metadata": {},
   "outputs": [],
   "source": [
    "for fname in images:\n",
    "    img = cv2.imread(fname)\n",
    "    gray = cv2.cvtColor(img,cv2.COLOR_BGR2GRAY)\n",
    "    # Find the chess board corners\n",
    "    ret, corners = cv2.findChessboardCorners(gray, (9,6),None)\n",
    "    # If found, add object points, image points (after refining them)\n",
    "    if ret == True:\n",
    "        objpoints.append(objp)\n",
    "        cv2.cornerSubPix(gray,corners,(11,11),(-1,-1),criteria)\n",
    "        imgpoints.append(corners)\n",
    "        # Draw and display the corners\n",
    "        cv2.drawChessboardCorners(img, (9,6), corners,ret)\n",
    "        cv2.imwrite('./result/part1/'+str(fname),img)\n",
    "        cv2.imshow('img',img)\n",
    "        cv2.waitKey(500)\n",
    "cv2.destroyAllWindows()"
   ]
  },
  {
   "cell_type": "code",
   "execution_count": 7,
   "metadata": {},
   "outputs": [],
   "source": [
    " ret, mtx, dist, rvecs, tvecs = cv2.calibrateCamera(objpoints, imgpoints, gray.shape[::-1],None,None)"
   ]
  },
  {
   "cell_type": "code",
   "execution_count": 8,
   "metadata": {},
   "outputs": [
    {
     "name": "stdout",
     "output_type": "stream",
     "text": [
      "0.5589320351689583\n"
     ]
    }
   ],
   "source": [
    "print(ret)\n"
   ]
  },
  {
   "cell_type": "code",
   "execution_count": 9,
   "metadata": {},
   "outputs": [
    {
     "name": "stdout",
     "output_type": "stream",
     "text": [
      "[[595.15497567   0.         276.05917364]\n",
      " [  0.         612.59466701 381.21361238]\n",
      " [  0.           0.           1.        ]]\n"
     ]
    }
   ],
   "source": [
    "print(mtx)"
   ]
  },
  {
   "cell_type": "code",
   "execution_count": 10,
   "metadata": {},
   "outputs": [],
   "source": [
    "principalPoint = (mtx[0][2],mtx[1][2])"
   ]
  },
  {
   "cell_type": "code",
   "execution_count": 11,
   "metadata": {},
   "outputs": [],
   "source": [
    "focal = (mtx[0][0]+mtx[1][1])/2"
   ]
  },
  {
   "cell_type": "code",
   "execution_count": 12,
   "metadata": {},
   "outputs": [
    {
     "name": "stdout",
     "output_type": "stream",
     "text": [
      "(276.0591736428202, 381.2136123810213)\n"
     ]
    }
   ],
   "source": [
    "print(principalPoint)"
   ]
  },
  {
   "cell_type": "markdown",
   "metadata": {},
   "source": [
    "# Part 2: Take the pictures"
   ]
  },
  {
   "cell_type": "code",
   "execution_count": null,
   "metadata": {},
   "outputs": [],
   "source": []
  },
  {
   "cell_type": "markdown",
   "metadata": {},
   "source": [
    "# Part 3: Compute the relative camera pose"
   ]
  },
  {
   "cell_type": "code",
   "execution_count": 13,
   "metadata": {},
   "outputs": [],
   "source": [
    "from matplotlib import pyplot as plt\n",
    "\n",
    "img1 = cv2.imread('./Pair image/myleft.JPG',0)  #queryimage # left image\n",
    "img2 = cv2.imread('./Pair image/myright.JPG',0) #trainimage # right image\n"
   ]
  },
  {
   "cell_type": "code",
   "execution_count": 14,
   "metadata": {},
   "outputs": [],
   "source": [
    "cv2.imshow('img1',img1)\n",
    "#cv2.waitKey(500)\n",
    "cv2.destroyAllWindows()\n"
   ]
  },
  {
   "cell_type": "code",
   "execution_count": 15,
   "metadata": {},
   "outputs": [
    {
     "data": {
      "text/plain": [
       "'3.3.0'"
      ]
     },
     "execution_count": 15,
     "metadata": {},
     "output_type": "execute_result"
    }
   ],
   "source": [
    "import cv2\n",
    "cv2.__version__"
   ]
  },
  {
   "cell_type": "code",
   "execution_count": null,
   "metadata": {},
   "outputs": [],
   "source": []
  },
  {
   "cell_type": "code",
   "execution_count": 16,
   "metadata": {},
   "outputs": [],
   "source": [
    "sift = cv2.xfeatures2d.SIFT_create()\n",
    "\n",
    "# find the keypoints and descriptors with SIFT\n",
    "kp1, des1 = sift.detectAndCompute(img1,None)\n",
    "kp2, des2 = sift.detectAndCompute(img2,None)\n",
    "\n",
    "# FLANN parameters\n",
    "FLANN_INDEX_KDTREE = 0\n",
    "index_params = dict(algorithm = FLANN_INDEX_KDTREE, trees = 5)\n",
    "search_params = dict(checks=50)\n",
    "\n",
    "flann = cv2.FlannBasedMatcher(index_params,search_params)\n",
    "matches = flann.knnMatch(des1,des2,k=2)\n",
    "\n",
    "good = []\n",
    "pts1 = []\n",
    "pts2 = []\n",
    "\n",
    "# ratio test as per Lowe's paper\n",
    "for i,(m,n) in enumerate(matches):\n",
    "    if m.distance < 0.8*n.distance:\n",
    "        good.append(m)\n",
    "        pts2.append(kp2[m.trainIdx].pt)\n",
    "        pts1.append(kp1[m.queryIdx].pt)"
   ]
  },
  {
   "cell_type": "markdown",
   "metadata": {},
   "source": [
    "Got the list of best matches from both images"
   ]
  },
  {
   "cell_type": "code",
   "execution_count": 17,
   "metadata": {},
   "outputs": [],
   "source": [
    "pts1 = np.int32(pts1)\n",
    "pts2 = np.int32(pts2)\n",
    "F, mask = cv2.findFundamentalMat(pts1,pts2,cv2.FM_LMEDS)\n",
    "\n",
    "# We select only inlier points\n",
    "pts1 = pts1[mask.ravel()==1]\n",
    "pts2 = pts2[mask.ravel()==1]"
   ]
  },
  {
   "cell_type": "code",
   "execution_count": 18,
   "metadata": {},
   "outputs": [
    {
     "name": "stdout",
     "output_type": "stream",
     "text": [
      "[[-2.82168712e-08  3.30652500e-06 -2.39694082e-03]\n",
      " [-3.51126870e-06  1.16811814e-07  9.03981104e-03]\n",
      " [ 2.46799293e-03 -9.92541358e-03  1.00000000e+00]]\n"
     ]
    }
   ],
   "source": [
    "print(F)"
   ]
  },
  {
   "cell_type": "code",
   "execution_count": null,
   "metadata": {},
   "outputs": [],
   "source": []
  },
  {
   "cell_type": "markdown",
   "metadata": {},
   "source": [
    "Next we find the epilines. Epilines corresponding to the points in first image is drawn on second image. So mentioning of correct images are important here. We get an array of lines. So we define a new function to draw these lines on the images."
   ]
  },
  {
   "cell_type": "code",
   "execution_count": null,
   "metadata": {},
   "outputs": [],
   "source": [
    "def drawlines(img1,img2,lines,pts1,pts2):\n",
    "    ''' img1 - image on which we draw the epilines for the points in img2\n",
    "        lines - corresponding epilines '''\n",
    "    r,c = img1.shape\n",
    "    img1 = cv2.cvtColor(img1,cv2.COLOR_GRAY2BGR)\n",
    "    img2 = cv2.cvtColor(img2,cv2.COLOR_GRAY2BGR)\n",
    "    for r,pt1,pt2 in zip(lines,pts1,pts2):\n",
    "        color = tuple(np.random.randint(0,255,3).tolist())\n",
    "        x0,y0 = map(int, [0, -r[2]/r[1] ])\n",
    "        x1,y1 = map(int, [c, -(r[2]+r[0]*c)/r[1] ])\n",
    "        img1 = cv2.line(img1, (x0,y0), (x1,y1), color,1)\n",
    "        img1 = cv2.circle(img1,tuple(pt1),5,color,-1)\n",
    "        img2 = cv2.circle(img2,tuple(pt2),5,color,-1)\n",
    "    return img1,img2"
   ]
  },
  {
   "cell_type": "markdown",
   "metadata": {},
   "source": [
    "Now we find the epilines in both the images and draw them."
   ]
  },
  {
   "cell_type": "code",
   "execution_count": null,
   "metadata": {},
   "outputs": [
    {
     "data": {
      "image/png": "[encoded data removed]",
      "text/plain": [
       "<Figure size 432x288 with 2 Axes>"
      ]
     },
     "metadata": {
      "needs_background": "light"
     },
     "output_type": "display_data"
    }
   ],
   "source": [
    "# Find epilines corresponding to points in right image (second image) and\n",
    "# drawing its lines on left image\n",
    "lines1 = cv2.computeCorrespondEpilines(pts2.reshape(-1,1,2), 2,F)\n",
    "lines1 = lines1.reshape(-1,3)\n",
    "img5,img6 = drawlines(img1,img2,lines1,pts1,pts2)\n",
    "\n",
    "# Find epilines corresponding to points in left image (first image) and\n",
    "# drawing its lines on right image\n",
    "lines2 = cv2.computeCorrespondEpilines(pts1.reshape(-1,1,2), 1,F)\n",
    "lines2 = lines2.reshape(-1,3)\n",
    "img3,img4 = drawlines(img2,img1,lines2,pts2,pts1)\n",
    "\n",
    "plt.subplot(121),plt.imshow(img5)\n",
    "plt.subplot(122),plt.imshow(img3)\n",
    "plt.show()\n",
    "cv2.destroyAllWindows()"
   ]
  },
  {
   "cell_type": "markdown",
   "metadata": {},
   "source": [
    "Compute the essential matrix E\n",
    "https://docs.opencv.org/3.1.0/d9/d0c/group__calib3d.html#ga13f7e34de8fa516a686a56af1196247f"
   ]
  },
  {
   "cell_type": "code",
   "execution_count": null,
   "metadata": {},
   "outputs": [],
   "source": [
    "E, mask = cv2.findEssentialMat(pts1, pts2, focal, principalPoint, method=cv2.RANSAC, prob=0.999, threshold=3.0)"
   ]
  },
  {
   "cell_type": "code",
   "execution_count": null,
   "metadata": {},
   "outputs": [
    {
     "name": "stdout",
     "output_type": "stream",
     "text": [
      "[[-0.00328385  0.04070008  0.06617857]\n",
      " [-0.06314851  0.00880867  0.70104931]\n",
      " [-0.04805229 -0.70430074  0.00831244]]\n"
     ]
    }
   ],
   "source": [
    "print(E)"
   ]
  },
  {
   "cell_type": "code",
   "execution_count": null,
   "metadata": {},
   "outputs": [],
   "source": [
    "R1,R2,t = cv2.decomposeEssentialMat(E)"
   ]
  },
  {
   "cell_type": "markdown",
   "metadata": {},
   "source": [
    "### decompose the essential matrix, we got two rotaion matrixs, R1(3*3) and R2(3*3), and one translation vector (3*1).\n",
    "### We need the  projection matrix of the first camera and projection matrix of the second camera to calculate the triangulatePoints\n",
    "### projMatr1 – 3x4 projection matrix of the first camera.\n",
    "### projMatr2 – 3x4 projection matrix of the second camera."
   ]
  },
  {
   "cell_type": "code",
   "execution_count": null,
   "metadata": {},
   "outputs": [
    {
     "name": "stdout",
     "output_type": "stream",
     "text": [
      "[[ 0.99909091  0.02709379  0.03291312]\n",
      " [-0.02661309  0.99953392 -0.01495636]\n",
      " [-0.03330301  0.01406684  0.9993463 ]]\n"
     ]
    }
   ],
   "source": [
    "print(R1)"
   ]
  },
  {
   "cell_type": "code",
   "execution_count": null,
   "metadata": {},
   "outputs": [
    {
     "name": "stdout",
     "output_type": "stream",
     "text": [
      "[[ 0.97620017 -0.15974222  0.14668214]\n",
      " [-0.16117865 -0.98692298 -0.00211784]\n",
      " [ 0.14510229 -0.0215746  -0.98918141]]\n"
     ]
    }
   ],
   "source": [
    "print(R2)"
   ]
  },
  {
   "cell_type": "code",
   "execution_count": null,
   "metadata": {},
   "outputs": [
    {
     "name": "stdout",
     "output_type": "stream",
     "text": [
      "[[ 0.99393472]\n",
      " [-0.09449379]\n",
      " [ 0.0562556 ]]\n"
     ]
    }
   ],
   "source": [
    "print(t)"
   ]
  },
  {
   "cell_type": "markdown",
   "metadata": {},
   "source": [
    "### There are 4 possible combination for the projection matrix.\n",
    "#### Case 1:  projMatr1 = K [ I 0]   projMatr2 = K[R1 t]\n",
    "#### Case 2:  projMatr1 = K[ I 0]   projMatr2 = K[R1  -t]\n",
    "#### Case 3:  projMatr1 = K[ I 0]   projMatr2 = K[R2 t]\n",
    "#### Case 4:  projMatr1 = K[ I 0]   projMatr2 = K[R2 -t]\n"
   ]
  },
  {
   "cell_type": "code",
   "execution_count": null,
   "metadata": {},
   "outputs": [],
   "source": [
    "points1 = np.array(pts1).astype(float).T \n",
    "points2 = np.array(pts2).astype(float).T"
   ]
  },
  {
   "cell_type": "code",
   "execution_count": null,
   "metadata": {},
   "outputs": [],
   "source": [
    "# make a projection matrix for camera 1\n",
    "projMatr1 = mtx@np.array([[1,0,0,0],[0,1,0,0],[0,0,1,0]])"
   ]
  },
  {
   "cell_type": "code",
   "execution_count": null,
   "metadata": {},
   "outputs": [],
   "source": [
    "# case 1\n",
    "projMatr21 = mtx@np.concatenate((R1,t),1)\n",
    "# case 2\n",
    "projMatr22 = mtx@np.concatenate((R1,-t),1)\n",
    "# case 3\n",
    "projMatr23 = mtx@np.concatenate((R2,t),1)\n",
    "# case 4\n",
    "projMatr24 = mtx@np.concatenate((R2,-t),1)"
   ]
  },
  {
   "cell_type": "code",
   "execution_count": null,
   "metadata": {},
   "outputs": [],
   "source": [
    "triangulate1 = cv2.triangulatePoints(projMatr1, projMatr21,points1,points2)\n",
    "triangulate2 = cv2.triangulatePoints(projMatr1, projMatr22,points1,points2)\n",
    "triangulate3 = cv2.triangulatePoints(projMatr1, projMatr23,points1,points2)\n",
    "triangulate4 = cv2.triangulatePoints(projMatr1, projMatr24,points1,points2)"
   ]
  },
  {
   "cell_type": "code",
   "execution_count": null,
   "metadata": {},
   "outputs": [
    {
     "name": "stdout",
     "output_type": "stream",
     "text": [
      "[[ 0.8330936  -0.22325353  0.4753981   0.17352109]\n",
      " [ 0.84089189 -0.2084152   0.46993469  0.1691902 ]\n",
      " [ 0.8519197  -0.20137944  0.45639298  0.15932542]\n",
      " ...\n",
      " [-0.37486076 -0.29848006 -0.78813581 -0.3863043 ]\n",
      " [ 0.63612354  0.14796643  0.68972207  0.31262795]\n",
      " [-0.66248355  0.18788379 -0.66264039 -0.2944876 ]]\n"
     ]
    }
   ],
   "source": [
    "print(triangulate1.T)"
   ]
  },
  {
   "cell_type": "markdown",
   "metadata": {},
   "source": [
    "#### case 1 got negtive distance, get rid of it."
   ]
  },
  {
   "cell_type": "code",
   "execution_count": null,
   "metadata": {},
   "outputs": [
    {
     "name": "stdout",
     "output_type": "stream",
     "text": [
      "[[ 0.8330936  -0.22325353  0.4753981  -0.17352109]\n",
      " [ 0.84089189 -0.2084152   0.46993469 -0.1691902 ]\n",
      " [ 0.8519197  -0.20137944  0.45639298 -0.15932542]\n",
      " ...\n",
      " [-0.37486076 -0.29848006 -0.78813581  0.3863043 ]\n",
      " [-0.63612354 -0.14796643 -0.68972207  0.31262795]\n",
      " [-0.66248355  0.18788379 -0.66264039  0.2944876 ]]\n"
     ]
    }
   ],
   "source": [
    "print(triangulate2.T)"
   ]
  },
  {
   "cell_type": "markdown",
   "metadata": {},
   "source": [
    "#### case 2 got negtive distance, get rid of it."
   ]
  },
  {
   "cell_type": "code",
   "execution_count": null,
   "metadata": {},
   "outputs": [
    {
     "name": "stdout",
     "output_type": "stream",
     "text": [
      "[[-0.38215408  0.10241015 -0.21807313  0.89214042]\n",
      " [-0.38438109  0.09526891 -0.21481242  0.89276572]\n",
      " [-0.38791879  0.09169746 -0.20781702  0.89326518]\n",
      " ...\n",
      " [-0.24333718 -0.19375307 -0.51160576  0.80094089]\n",
      " [-0.32935496 -0.07661005 -0.35710571  0.8707076 ]\n",
      " [-0.33139171  0.09398413 -0.33146957  0.87833618]]\n"
     ]
    }
   ],
   "source": [
    "print(triangulate3.T)"
   ]
  },
  {
   "cell_type": "markdown",
   "metadata": {},
   "source": [
    "#### case 3 got negtive distance, so I get rit of this case."
   ]
  },
  {
   "cell_type": "code",
   "execution_count": null,
   "metadata": {},
   "outputs": [
    {
     "name": "stdout",
     "output_type": "stream",
     "text": [
      "[[ 0.38215408 -0.10241015  0.21807313  0.89214042]\n",
      " [ 0.38438109 -0.09526891  0.21481242  0.89276572]\n",
      " [ 0.38791879 -0.09169746  0.20781702  0.89326518]\n",
      " ...\n",
      " [ 0.24333718  0.19375307  0.51160576  0.80094089]\n",
      " [ 0.32935496  0.07661005  0.35710571  0.8707076 ]\n",
      " [ 0.33139171 -0.09398413  0.33146957  0.87833618]]\n"
     ]
    }
   ],
   "source": [
    "print(triangulate4.T)"
   ]
  },
  {
   "cell_type": "markdown",
   "metadata": {},
   "source": [
    "#### case 4 has the positive distance , so the (R2,-t) is the right R and t"
   ]
  },
  {
   "cell_type": "code",
   "execution_count": null,
   "metadata": {},
   "outputs": [
    {
     "data": {
      "text/plain": [
       "array([[ 0.38215408, -0.10241015,  0.21807313,  0.89214042],\n",
       "       [ 0.38438109, -0.09526891,  0.21481242,  0.89276572],\n",
       "       [ 0.38791879, -0.09169746,  0.20781702,  0.89326518],\n",
       "       ...,\n",
       "       [ 0.24333718,  0.19375307,  0.51160576,  0.80094089],\n",
       "       [ 0.32935496,  0.07661005,  0.35710571,  0.8707076 ],\n",
       "       [ 0.33139171, -0.09398413,  0.33146957,  0.87833618]])"
      ]
     },
     "execution_count": 35,
     "metadata": {},
     "output_type": "execute_result"
    }
   ],
   "source": [
    "triangulate4.T"
   ]
  },
  {
   "cell_type": "code",
   "execution_count": null,
   "metadata": {},
   "outputs": [],
   "source": [
    "triangulate4world = np.true_divide(triangulate4.T[:,:3], triangulate4.T[:,[-1]]).T"
   ]
  },
  {
   "cell_type": "code",
   "execution_count": null,
   "metadata": {},
   "outputs": [
    {
     "name": "stdout",
     "output_type": "stream",
     "text": [
      "[[ 0.42835642 -0.11479152  0.24443813]\n",
      " [ 0.43055091 -0.10671211  0.24061455]\n",
      " [ 0.43427058 -0.10265424  0.23264874]\n",
      " ...\n",
      " [ 0.30381416  0.24190683  0.63875596]\n",
      " [ 0.37826127  0.08798597  0.41013277]\n",
      " [ 0.37729484 -0.10700246  0.37738348]]\n"
     ]
    }
   ],
   "source": [
    "print(triangulate4world.T)"
   ]
  },
  {
   "cell_type": "code",
   "execution_count": null,
   "metadata": {},
   "outputs": [
    {
     "name": "stdout",
     "output_type": "stream",
     "text": [
      "(3, 828)\n"
     ]
    }
   ],
   "source": [
    "print(triangulate4world.shape)"
   ]
  },
  {
   "cell_type": "code",
   "execution_count": null,
   "metadata": {},
   "outputs": [],
   "source": [
    "pixelh = mtx@triangulate4world"
   ]
  },
  {
   "cell_type": "code",
   "execution_count": null,
   "metadata": {},
   "outputs": [
    {
     "name": "stdout",
     "output_type": "stream",
     "text": [
      "[[3.22417842e+02 2.28624708e+01 2.44438129e-01]\n",
      " [3.22668368e+02 2.63542705e+01 2.40614546e-01]\n",
      " [3.22683117e+02 2.58034279e+01 2.32648742e-01]\n",
      " ...\n",
      " [3.57150948e+02 3.91693298e+02 6.38755957e-01]\n",
      " [3.38344991e+02 2.10247930e+02 4.10132766e-01]\n",
      " [3.28729072e+02 7.83145830e+01 3.77383482e-01]]\n"
     ]
    }
   ],
   "source": [
    "print(pixelh.T)"
   ]
  },
  {
   "cell_type": "code",
   "execution_count": null,
   "metadata": {},
   "outputs": [],
   "source": [
    "pixel = np.true_divide(pixelh.T[:,:2],pixelh.T[:,[-1]])"
   ]
  },
  {
   "cell_type": "code",
   "execution_count": null,
   "metadata": {},
   "outputs": [
    {
     "name": "stdout",
     "output_type": "stream",
     "text": [
      "[[1319.   93.]\n",
      " [1341.  109.]\n",
      " [1387.  111.]\n",
      " ...\n",
      " [ 559.  612.]\n",
      " [ 825.  513.]\n",
      " [ 871.  206.]]\n"
     ]
    }
   ],
   "source": [
    "print(points1.T)"
   ]
  },
  {
   "cell_type": "code",
   "execution_count": null,
   "metadata": {},
   "outputs": [
    {
     "name": "stdout",
     "output_type": "stream",
     "text": [
      "[[1319.01615953   93.5307064 ]\n",
      " [1341.01771139  109.52899962]\n",
      " [1386.99704198  110.91153005]\n",
      " ...\n",
      " [ 559.13521313  613.21275131]\n",
      " [ 824.96454533  512.63382964]\n",
      " [ 871.07435249  207.51990149]]\n"
     ]
    }
   ],
   "source": [
    "print(pixel)"
   ]
  },
  {
   "cell_type": "code",
   "execution_count": null,
   "metadata": {},
   "outputs": [
    {
     "name": "stdout",
     "output_type": "stream",
     "text": [
      "(828, 2)\n"
     ]
    }
   ],
   "source": [
    "print(pixel.shape)"
   ]
  },
  {
   "cell_type": "code",
   "execution_count": null,
   "metadata": {},
   "outputs": [],
   "source": [
    "imgleft = cv2.imread('./Pair image/myleft.JPG')  #queryimage # left image\n",
    "imgright = cv2.imread('./Pair image/myright.JPG') #trainimage # right image\n",
    "\n"
   ]
  },
  {
   "cell_type": "code",
   "execution_count": null,
   "metadata": {},
   "outputs": [],
   "source": [
    "cv2.imshow('left',imgleft)"
   ]
  },
  {
   "cell_type": "code",
   "execution_count": null,
   "metadata": {},
   "outputs": [],
   "source": [
    "for point in pixel.astype(int):\n",
    "    #print(tuple(point))\n",
    "    \n",
    "    imgleft = cv2.circle(imgleft,tuple(point),10,(0, 0, 200),-1)\n",
    "for point in points1.T.astype(int):\n",
    "    #print(tuple(point))\n",
    "    imgleft = cv2.circle(imgleft,tuple(point),5,(200, 0, 0),-1)\n",
    "cv2.imshow('left',imgleft )\n",
    "cv2.waitKey(0)\n",
    "cv2.destroyAllWindows()\n",
    "cv2.imwrite('point',imgleft)\n"
   ]
  },
  {
   "cell_type": "markdown",
   "metadata": {},
   "source": [
    "# Part 4: Plane-sweeping stereo"
   ]
  },
  {
   "cell_type": "code",
   "execution_count": null,
   "metadata": {},
   "outputs": [],
   "source": []
  },
  {
   "cell_type": "code",
   "execution_count": null,
   "metadata": {},
   "outputs": [],
   "source": []
  }
 ],
 "metadata": {
  "kernelspec": {
   "display_name": "Python 3",
   "language": "python",
   "name": "python3"
  },
  "language_info": {
   "codemirror_mode": {
    "name": "ipython",
    "version": 3
   },
   "file_extension": ".py",
   "mimetype": "text/x-python",
   "name": "python",
   "nbconvert_exporter": "python",
   "pygments_lexer": "ipython3",
   "version": "3.6.3"
  }
 },
 "nbformat": 4,
 "nbformat_minor": 2
}
